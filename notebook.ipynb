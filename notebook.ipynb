{
 "cells": [
  {
   "cell_type": "markdown",
   "metadata": {},
   "source": [
    "# Data Exploratory Analysis\n",
    "The following outlines the process I used to understand and analyze the dataset."
   ]
  },
  {
   "cell_type": "code",
   "execution_count": 1,
   "metadata": {},
   "outputs": [],
   "source": [
    "# The first step involves importing the libraries required for the process:\n",
    "import pandas as pd\n",
    "import numpy as np\n",
    "import matplotlib.pyplot as plt\n",
    "import seaborn as sns\n",
    "\n",
    "# The graphics style selected is:\n",
    "plt.style.use('ggplot')\n",
    "\n",
    "# Statistical packages used\n",
    "from scipy.stats import shapiro, levene, ttest_ind, mannwhitneyu, f_oneway, kruskal, pearsonr\n",
    "\n",
    "# Model packages used\n",
    "from sklearn.model_selection import train_test_split\n",
    "from sklearn.metrics import mean_squared_error, r2_score\n",
    "from sklearn.feature_extraction import DictVectorizer\n",
    "\n",
    "from sklearn.linear_model import LinearRegression, Ridge, Lasso\n",
    "from sklearn.ensemble import RandomForestRegressor, GradientBoostingRegressor\n",
    "from sklearn.model_selection import GridSearchCV"
   ]
  },
  {
   "cell_type": "code",
   "execution_count": 2,
   "metadata": {},
   "outputs": [],
   "source": [
    "# The following allows us to view all the columns of the dataset, regardless of its size:\n",
    "pd.set_option('display.max_columns', None)"
   ]
  },
  {
   "cell_type": "code",
   "execution_count": 3,
   "metadata": {},
   "outputs": [],
   "source": [
    "# Then the dataset is loaded as:\n",
    "corn = pd.read_csv(\"C://Users/jober/Data_Projects/corn-yield-prediction/Dataset/corn_data.csv\", sep=\";\", )"
   ]
  },
  {
   "cell_type": "markdown",
   "metadata": {},
   "source": [
    "## Step 1: Understanding the data\n",
    "This step give us a general sense of the dataset: "
   ]
  },
  {
   "cell_type": "code",
   "execution_count": 4,
   "metadata": {},
   "outputs": [
    {
     "data": {
      "text/plain": [
       "(422, 22)"
      ]
     },
     "execution_count": 4,
     "metadata": {},
     "output_type": "execute_result"
    }
   ],
   "source": [
    "corn.shape"
   ]
  },
  {
   "cell_type": "code",
   "execution_count": 5,
   "metadata": {},
   "outputs": [
    {
     "data": {
      "text/html": [
       "<div>\n",
       "<style scoped>\n",
       "    .dataframe tbody tr th:only-of-type {\n",
       "        vertical-align: middle;\n",
       "    }\n",
       "\n",
       "    .dataframe tbody tr th {\n",
       "        vertical-align: top;\n",
       "    }\n",
       "\n",
       "    .dataframe thead th {\n",
       "        text-align: right;\n",
       "    }\n",
       "</style>\n",
       "<table border=\"1\" class=\"dataframe\">\n",
       "  <thead>\n",
       "    <tr style=\"text-align: right;\">\n",
       "      <th></th>\n",
       "      <th>County</th>\n",
       "      <th>Farmer</th>\n",
       "      <th>Education</th>\n",
       "      <th>Gender</th>\n",
       "      <th>Age bracket</th>\n",
       "      <th>Household size</th>\n",
       "      <th>Crop</th>\n",
       "      <th>Acreage</th>\n",
       "      <th>Fertilizer amount</th>\n",
       "      <th>Laborers</th>\n",
       "      <th>Yield</th>\n",
       "      <th>Power source</th>\n",
       "      <th>Water source</th>\n",
       "      <th>Main credit source</th>\n",
       "      <th>Crop insurance</th>\n",
       "      <th>Farm records</th>\n",
       "      <th>Main advisory source</th>\n",
       "      <th>Extension provider</th>\n",
       "      <th>Advisory format</th>\n",
       "      <th>Advisory language</th>\n",
       "      <th>Latitude</th>\n",
       "      <th>Longitude</th>\n",
       "    </tr>\n",
       "  </thead>\n",
       "  <tbody>\n",
       "    <tr>\n",
       "      <th>0</th>\n",
       "      <td>TAITA TAVETA</td>\n",
       "      <td>fmr_65</td>\n",
       "      <td>Certificate</td>\n",
       "      <td>Male</td>\n",
       "      <td>36-45</td>\n",
       "      <td>7</td>\n",
       "      <td>corn</td>\n",
       "      <td>2.00</td>\n",
       "      <td>50</td>\n",
       "      <td>2</td>\n",
       "      <td>300</td>\n",
       "      <td>Manual</td>\n",
       "      <td>Rain</td>\n",
       "      <td>Credit groups</td>\n",
       "      <td>No</td>\n",
       "      <td>Yes</td>\n",
       "      <td>Radio</td>\n",
       "      <td>Private Provider</td>\n",
       "      <td>Phone Calls</td>\n",
       "      <td>Vernacular</td>\n",
       "      <td>-3.46</td>\n",
       "      <td>38.35</td>\n",
       "    </tr>\n",
       "    <tr>\n",
       "      <th>1</th>\n",
       "      <td>TAITA TAVETA</td>\n",
       "      <td>fmr_77</td>\n",
       "      <td>Certificate</td>\n",
       "      <td>Male</td>\n",
       "      <td>36-45</td>\n",
       "      <td>7</td>\n",
       "      <td>corn</td>\n",
       "      <td>0.25</td>\n",
       "      <td>50</td>\n",
       "      <td>2</td>\n",
       "      <td>270</td>\n",
       "      <td>Manual</td>\n",
       "      <td>Rain</td>\n",
       "      <td>Credit groups</td>\n",
       "      <td>No</td>\n",
       "      <td>Yes</td>\n",
       "      <td>Radio</td>\n",
       "      <td>County Government</td>\n",
       "      <td>SMS text</td>\n",
       "      <td>Kiswahili</td>\n",
       "      <td>-3.31</td>\n",
       "      <td>38.40</td>\n",
       "    </tr>\n",
       "    <tr>\n",
       "      <th>2</th>\n",
       "      <td>TAITA TAVETA</td>\n",
       "      <td>fmr_89</td>\n",
       "      <td>Certificate</td>\n",
       "      <td>Male</td>\n",
       "      <td>36-45</td>\n",
       "      <td>7</td>\n",
       "      <td>corn</td>\n",
       "      <td>3.00</td>\n",
       "      <td>251</td>\n",
       "      <td>2</td>\n",
       "      <td>270</td>\n",
       "      <td>Manual</td>\n",
       "      <td>Rain</td>\n",
       "      <td>Credit groups</td>\n",
       "      <td>No</td>\n",
       "      <td>Yes</td>\n",
       "      <td>Radio</td>\n",
       "      <td>Private Provider</td>\n",
       "      <td>Phone Calls</td>\n",
       "      <td>Vernacular</td>\n",
       "      <td>-3.41</td>\n",
       "      <td>38.37</td>\n",
       "    </tr>\n",
       "    <tr>\n",
       "      <th>3</th>\n",
       "      <td>TAITA TAVETA</td>\n",
       "      <td>fmr_102</td>\n",
       "      <td>Certificate</td>\n",
       "      <td>Male</td>\n",
       "      <td>36-45</td>\n",
       "      <td>7</td>\n",
       "      <td>corn</td>\n",
       "      <td>1.50</td>\n",
       "      <td>300</td>\n",
       "      <td>3</td>\n",
       "      <td>200</td>\n",
       "      <td>Manual</td>\n",
       "      <td>Rain</td>\n",
       "      <td>Credit groups</td>\n",
       "      <td>No</td>\n",
       "      <td>Yes</td>\n",
       "      <td>Radio</td>\n",
       "      <td>County Government</td>\n",
       "      <td>SMS text</td>\n",
       "      <td>Kiswahili</td>\n",
       "      <td>-3.39</td>\n",
       "      <td>38.37</td>\n",
       "    </tr>\n",
       "    <tr>\n",
       "      <th>4</th>\n",
       "      <td>TAITA TAVETA</td>\n",
       "      <td>fmr_25</td>\n",
       "      <td>Certificate</td>\n",
       "      <td>Male</td>\n",
       "      <td>46-55</td>\n",
       "      <td>3</td>\n",
       "      <td>corn</td>\n",
       "      <td>NaN</td>\n",
       "      <td>50</td>\n",
       "      <td>2</td>\n",
       "      <td>180</td>\n",
       "      <td>Manual</td>\n",
       "      <td>Rain</td>\n",
       "      <td>Credit groups</td>\n",
       "      <td>No</td>\n",
       "      <td>Yes</td>\n",
       "      <td>Radio</td>\n",
       "      <td>Private Provider</td>\n",
       "      <td>Phone Calls</td>\n",
       "      <td>Vernacular</td>\n",
       "      <td>-3.39</td>\n",
       "      <td>38.33</td>\n",
       "    </tr>\n",
       "  </tbody>\n",
       "</table>\n",
       "</div>"
      ],
      "text/plain": [
       "         County   Farmer    Education Gender Age bracket  Household size  \\\n",
       "0  TAITA TAVETA   fmr_65  Certificate   Male       36-45               7   \n",
       "1  TAITA TAVETA   fmr_77  Certificate   Male       36-45               7   \n",
       "2  TAITA TAVETA   fmr_89  Certificate   Male       36-45               7   \n",
       "3  TAITA TAVETA  fmr_102  Certificate   Male       36-45               7   \n",
       "4  TAITA TAVETA   fmr_25  Certificate   Male       46-55               3   \n",
       "\n",
       "   Crop  Acreage  Fertilizer amount  Laborers  Yield Power source  \\\n",
       "0  corn     2.00                 50         2    300       Manual   \n",
       "1  corn     0.25                 50         2    270       Manual   \n",
       "2  corn     3.00                251         2    270       Manual   \n",
       "3  corn     1.50                300         3    200       Manual   \n",
       "4  corn      NaN                 50         2    180       Manual   \n",
       "\n",
       "  Water source Main credit source Crop insurance Farm records  \\\n",
       "0         Rain      Credit groups             No          Yes   \n",
       "1         Rain      Credit groups             No          Yes   \n",
       "2         Rain      Credit groups             No          Yes   \n",
       "3         Rain      Credit groups             No          Yes   \n",
       "4         Rain      Credit groups             No          Yes   \n",
       "\n",
       "  Main advisory source Extension provider Advisory format Advisory language  \\\n",
       "0                Radio   Private Provider     Phone Calls        Vernacular   \n",
       "1                Radio  County Government        SMS text         Kiswahili   \n",
       "2                Radio   Private Provider     Phone Calls        Vernacular   \n",
       "3                Radio  County Government        SMS text         Kiswahili   \n",
       "4                Radio   Private Provider     Phone Calls        Vernacular   \n",
       "\n",
       "   Latitude  Longitude  \n",
       "0     -3.46      38.35  \n",
       "1     -3.31      38.40  \n",
       "2     -3.41      38.37  \n",
       "3     -3.39      38.37  \n",
       "4     -3.39      38.33  "
      ]
     },
     "execution_count": 5,
     "metadata": {},
     "output_type": "execute_result"
    }
   ],
   "source": [
    "corn.head()"
   ]
  },
  {
   "cell_type": "code",
   "execution_count": 6,
   "metadata": {},
   "outputs": [
    {
     "data": {
      "text/plain": [
       "Index(['County', 'Farmer', 'Education', 'Gender', 'Age bracket',\n",
       "       'Household size', 'Crop', 'Acreage', 'Fertilizer amount', 'Laborers',\n",
       "       'Yield', 'Power source', 'Water source', 'Main credit source',\n",
       "       'Crop insurance', 'Farm records', 'Main advisory source',\n",
       "       'Extension provider', 'Advisory format', 'Advisory language',\n",
       "       'Latitude', 'Longitude'],\n",
       "      dtype='object')"
      ]
     },
     "execution_count": 6,
     "metadata": {},
     "output_type": "execute_result"
    }
   ],
   "source": [
    "corn.columns"
   ]
  },
  {
   "cell_type": "code",
   "execution_count": 7,
   "metadata": {},
   "outputs": [
    {
     "name": "stdout",
     "output_type": "stream",
     "text": [
      "<class 'pandas.core.frame.DataFrame'>\n",
      "RangeIndex: 422 entries, 0 to 421\n",
      "Data columns (total 22 columns):\n",
      " #   Column                Non-Null Count  Dtype  \n",
      "---  ------                --------------  -----  \n",
      " 0   County                422 non-null    object \n",
      " 1   Farmer                422 non-null    object \n",
      " 2   Education             396 non-null    object \n",
      " 3   Gender                422 non-null    object \n",
      " 4   Age bracket           422 non-null    object \n",
      " 5   Household size        422 non-null    int64  \n",
      " 6   Crop                  422 non-null    object \n",
      " 7   Acreage               351 non-null    float64\n",
      " 8   Fertilizer amount     422 non-null    int64  \n",
      " 9   Laborers              422 non-null    int64  \n",
      " 10  Yield                 422 non-null    int64  \n",
      " 11  Power source          422 non-null    object \n",
      " 12  Water source          422 non-null    object \n",
      " 13  Main credit source    422 non-null    object \n",
      " 14  Crop insurance        422 non-null    object \n",
      " 15  Farm records          422 non-null    object \n",
      " 16  Main advisory source  422 non-null    object \n",
      " 17  Extension provider    422 non-null    object \n",
      " 18  Advisory format       422 non-null    object \n",
      " 19  Advisory language     422 non-null    object \n",
      " 20  Latitude              422 non-null    float64\n",
      " 21  Longitude             422 non-null    float64\n",
      "dtypes: float64(3), int64(4), object(15)\n",
      "memory usage: 72.7+ KB\n"
     ]
    }
   ],
   "source": [
    "# Using the info() method, we can quickly identify the data type of each column and detect null values:\"\n",
    "corn.info()"
   ]
  },
  {
   "cell_type": "code",
   "execution_count": 8,
   "metadata": {},
   "outputs": [
    {
     "data": {
      "text/plain": [
       "County                   0\n",
       "Farmer                   0\n",
       "Education               26\n",
       "Gender                   0\n",
       "Age bracket              0\n",
       "Household size           0\n",
       "Crop                     0\n",
       "Acreage                 71\n",
       "Fertilizer amount        0\n",
       "Laborers                 0\n",
       "Yield                    0\n",
       "Power source             0\n",
       "Water source             0\n",
       "Main credit source       0\n",
       "Crop insurance           0\n",
       "Farm records             0\n",
       "Main advisory source     0\n",
       "Extension provider       0\n",
       "Advisory format          0\n",
       "Advisory language        0\n",
       "Latitude                 0\n",
       "Longitude                0\n",
       "dtype: int64"
      ]
     },
     "execution_count": 8,
     "metadata": {},
     "output_type": "execute_result"
    }
   ],
   "source": [
    "# The number of null values in the dataset is confirmed as:\n",
    "corn.isna().sum()"
   ]
  },
  {
   "cell_type": "code",
   "execution_count": 9,
   "metadata": {},
   "outputs": [
    {
     "data": {
      "text/html": [
       "<div>\n",
       "<style scoped>\n",
       "    .dataframe tbody tr th:only-of-type {\n",
       "        vertical-align: middle;\n",
       "    }\n",
       "\n",
       "    .dataframe tbody tr th {\n",
       "        vertical-align: top;\n",
       "    }\n",
       "\n",
       "    .dataframe thead th {\n",
       "        text-align: right;\n",
       "    }\n",
       "</style>\n",
       "<table border=\"1\" class=\"dataframe\">\n",
       "  <thead>\n",
       "    <tr style=\"text-align: right;\">\n",
       "      <th></th>\n",
       "      <th>Household size</th>\n",
       "      <th>Acreage</th>\n",
       "      <th>Fertilizer amount</th>\n",
       "      <th>Laborers</th>\n",
       "      <th>Yield</th>\n",
       "      <th>Latitude</th>\n",
       "      <th>Longitude</th>\n",
       "    </tr>\n",
       "  </thead>\n",
       "  <tbody>\n",
       "    <tr>\n",
       "      <th>count</th>\n",
       "      <td>422.000000</td>\n",
       "      <td>351.000000</td>\n",
       "      <td>422.000000</td>\n",
       "      <td>422.000000</td>\n",
       "      <td>422.000000</td>\n",
       "      <td>422.000000</td>\n",
       "      <td>422.000000</td>\n",
       "    </tr>\n",
       "    <tr>\n",
       "      <th>mean</th>\n",
       "      <td>4.263033</td>\n",
       "      <td>0.828063</td>\n",
       "      <td>65.189573</td>\n",
       "      <td>2.843602</td>\n",
       "      <td>232.604265</td>\n",
       "      <td>-3.417583</td>\n",
       "      <td>38.404455</td>\n",
       "    </tr>\n",
       "    <tr>\n",
       "      <th>std</th>\n",
       "      <td>1.706355</td>\n",
       "      <td>0.584884</td>\n",
       "      <td>65.754796</td>\n",
       "      <td>0.974348</td>\n",
       "      <td>135.376952</td>\n",
       "      <td>0.079007</td>\n",
       "      <td>0.094324</td>\n",
       "    </tr>\n",
       "    <tr>\n",
       "      <th>min</th>\n",
       "      <td>1.000000</td>\n",
       "      <td>0.250000</td>\n",
       "      <td>20.000000</td>\n",
       "      <td>2.000000</td>\n",
       "      <td>50.000000</td>\n",
       "      <td>-3.640000</td>\n",
       "      <td>38.270000</td>\n",
       "    </tr>\n",
       "    <tr>\n",
       "      <th>25%</th>\n",
       "      <td>3.000000</td>\n",
       "      <td>0.500000</td>\n",
       "      <td>25.000000</td>\n",
       "      <td>2.000000</td>\n",
       "      <td>100.000000</td>\n",
       "      <td>-3.490000</td>\n",
       "      <td>38.340000</td>\n",
       "    </tr>\n",
       "    <tr>\n",
       "      <th>50%</th>\n",
       "      <td>4.000000</td>\n",
       "      <td>0.500000</td>\n",
       "      <td>50.000000</td>\n",
       "      <td>3.000000</td>\n",
       "      <td>180.000000</td>\n",
       "      <td>-3.410000</td>\n",
       "      <td>38.370000</td>\n",
       "    </tr>\n",
       "    <tr>\n",
       "      <th>75%</th>\n",
       "      <td>5.000000</td>\n",
       "      <td>1.000000</td>\n",
       "      <td>75.000000</td>\n",
       "      <td>3.000000</td>\n",
       "      <td>330.000000</td>\n",
       "      <td>-3.360000</td>\n",
       "      <td>38.400000</td>\n",
       "    </tr>\n",
       "    <tr>\n",
       "      <th>max</th>\n",
       "      <td>9.000000</td>\n",
       "      <td>4.000000</td>\n",
       "      <td>500.000000</td>\n",
       "      <td>8.000000</td>\n",
       "      <td>600.000000</td>\n",
       "      <td>-3.250000</td>\n",
       "      <td>38.630000</td>\n",
       "    </tr>\n",
       "  </tbody>\n",
       "</table>\n",
       "</div>"
      ],
      "text/plain": [
       "       Household size     Acreage  Fertilizer amount    Laborers       Yield  \\\n",
       "count      422.000000  351.000000         422.000000  422.000000  422.000000   \n",
       "mean         4.263033    0.828063          65.189573    2.843602  232.604265   \n",
       "std          1.706355    0.584884          65.754796    0.974348  135.376952   \n",
       "min          1.000000    0.250000          20.000000    2.000000   50.000000   \n",
       "25%          3.000000    0.500000          25.000000    2.000000  100.000000   \n",
       "50%          4.000000    0.500000          50.000000    3.000000  180.000000   \n",
       "75%          5.000000    1.000000          75.000000    3.000000  330.000000   \n",
       "max          9.000000    4.000000         500.000000    8.000000  600.000000   \n",
       "\n",
       "         Latitude   Longitude  \n",
       "count  422.000000  422.000000  \n",
       "mean    -3.417583   38.404455  \n",
       "std      0.079007    0.094324  \n",
       "min     -3.640000   38.270000  \n",
       "25%     -3.490000   38.340000  \n",
       "50%     -3.410000   38.370000  \n",
       "75%     -3.360000   38.400000  \n",
       "max     -3.250000   38.630000  "
      ]
     },
     "execution_count": 9,
     "metadata": {},
     "output_type": "execute_result"
    }
   ],
   "source": [
    "# The describe() function provides basic statistics for the numerical variables in the dataset:\n",
    "corn.describe()"
   ]
  },
  {
   "cell_type": "markdown",
   "metadata": {},
   "source": [
    "## Step 2: Data preparation\n",
    "Now that I have a general understanding of the data, some cleaning is needed before proceeding with further analysis."
   ]
  },
  {
   "cell_type": "code",
   "execution_count": 10,
   "metadata": {},
   "outputs": [
    {
     "data": {
      "text/plain": [
       "0"
      ]
     },
     "execution_count": 10,
     "metadata": {},
     "output_type": "execute_result"
    }
   ],
   "source": [
    "# Checking for duplicates:\n",
    "corn.duplicated().sum()"
   ]
  },
  {
   "cell_type": "code",
   "execution_count": 11,
   "metadata": {},
   "outputs": [
    {
     "data": {
      "text/plain": [
       "(0, 22)"
      ]
     },
     "execution_count": 11,
     "metadata": {},
     "output_type": "execute_result"
    }
   ],
   "source": [
    "corn.loc[corn.duplicated(subset=['Farmer'])].shape"
   ]
  },
  {
   "cell_type": "code",
   "execution_count": 12,
   "metadata": {},
   "outputs": [
    {
     "data": {
      "text/plain": [
       "Farmer\n",
       "fmr_65     1\n",
       "fmr_219    1\n",
       "fmr_72     1\n",
       "fmr_71     1\n",
       "fmr_368    1\n",
       "          ..\n",
       "fmr_410    1\n",
       "fmr_371    1\n",
       "fmr_274    1\n",
       "fmr_254    1\n",
       "fmr_200    1\n",
       "Name: count, Length: 422, dtype: int64"
      ]
     },
     "execution_count": 12,
     "metadata": {},
     "output_type": "execute_result"
    }
   ],
   "source": [
    "# The column 'Farmer' indicates a unique record for each of the 422 platantion leader's.\n",
    "corn['Farmer'].value_counts()"
   ]
  },
  {
   "cell_type": "markdown",
   "metadata": {},
   "source": [
    "Then there are no registries duplicated."
   ]
  },
  {
   "cell_type": "code",
   "execution_count": 13,
   "metadata": {},
   "outputs": [
    {
     "name": "stdout",
     "output_type": "stream",
     "text": [
      "County\n",
      "TAITA TAVETA    422\n",
      "Name: count, dtype: int64\n",
      "Crop\n",
      "corn    422\n",
      "Name: count, dtype: int64\n",
      "Power source\n",
      "Manual    422\n",
      "Name: count, dtype: int64\n",
      "Water source\n",
      "Rain    422\n",
      "Name: count, dtype: int64\n",
      "Crop insurance\n",
      "No    422\n",
      "Name: count, dtype: int64\n"
     ]
    }
   ],
   "source": [
    "# In addition, the following columns are not useful for creating a predictive model because they return the same value for all rows, as shown below:\n",
    "cols = ['County', 'Crop', 'Power source', 'Water source','Crop insurance']\n",
    "for c in cols:\n",
    "    print(corn[c].value_counts())"
   ]
  },
  {
   "cell_type": "code",
   "execution_count": 14,
   "metadata": {},
   "outputs": [],
   "source": [
    "# Additionally, the columns 'Latitude' and 'Longitude' do not provide value due to their low variance within the analyzed county."
   ]
  },
  {
   "cell_type": "code",
   "execution_count": 15,
   "metadata": {},
   "outputs": [
    {
     "data": {
      "text/html": [
       "<div>\n",
       "<style scoped>\n",
       "    .dataframe tbody tr th:only-of-type {\n",
       "        vertical-align: middle;\n",
       "    }\n",
       "\n",
       "    .dataframe tbody tr th {\n",
       "        vertical-align: top;\n",
       "    }\n",
       "\n",
       "    .dataframe thead th {\n",
       "        text-align: right;\n",
       "    }\n",
       "</style>\n",
       "<table border=\"1\" class=\"dataframe\">\n",
       "  <thead>\n",
       "    <tr style=\"text-align: right;\">\n",
       "      <th></th>\n",
       "      <th>Education</th>\n",
       "      <th>Gender</th>\n",
       "      <th>Age bracket</th>\n",
       "      <th>Household size</th>\n",
       "      <th>Acreage</th>\n",
       "      <th>Fertilizer amount</th>\n",
       "      <th>Laborers</th>\n",
       "      <th>Yield</th>\n",
       "      <th>Main credit source</th>\n",
       "      <th>Farm records</th>\n",
       "      <th>Main advisory source</th>\n",
       "      <th>Extension provider</th>\n",
       "      <th>Advisory format</th>\n",
       "      <th>Advisory language</th>\n",
       "    </tr>\n",
       "  </thead>\n",
       "  <tbody>\n",
       "    <tr>\n",
       "      <th>0</th>\n",
       "      <td>Certificate</td>\n",
       "      <td>Male</td>\n",
       "      <td>36-45</td>\n",
       "      <td>7</td>\n",
       "      <td>2.00</td>\n",
       "      <td>50</td>\n",
       "      <td>2</td>\n",
       "      <td>300</td>\n",
       "      <td>Credit groups</td>\n",
       "      <td>Yes</td>\n",
       "      <td>Radio</td>\n",
       "      <td>Private Provider</td>\n",
       "      <td>Phone Calls</td>\n",
       "      <td>Vernacular</td>\n",
       "    </tr>\n",
       "    <tr>\n",
       "      <th>1</th>\n",
       "      <td>Certificate</td>\n",
       "      <td>Male</td>\n",
       "      <td>36-45</td>\n",
       "      <td>7</td>\n",
       "      <td>0.25</td>\n",
       "      <td>50</td>\n",
       "      <td>2</td>\n",
       "      <td>270</td>\n",
       "      <td>Credit groups</td>\n",
       "      <td>Yes</td>\n",
       "      <td>Radio</td>\n",
       "      <td>County Government</td>\n",
       "      <td>SMS text</td>\n",
       "      <td>Kiswahili</td>\n",
       "    </tr>\n",
       "    <tr>\n",
       "      <th>2</th>\n",
       "      <td>Certificate</td>\n",
       "      <td>Male</td>\n",
       "      <td>36-45</td>\n",
       "      <td>7</td>\n",
       "      <td>3.00</td>\n",
       "      <td>251</td>\n",
       "      <td>2</td>\n",
       "      <td>270</td>\n",
       "      <td>Credit groups</td>\n",
       "      <td>Yes</td>\n",
       "      <td>Radio</td>\n",
       "      <td>Private Provider</td>\n",
       "      <td>Phone Calls</td>\n",
       "      <td>Vernacular</td>\n",
       "    </tr>\n",
       "    <tr>\n",
       "      <th>3</th>\n",
       "      <td>Certificate</td>\n",
       "      <td>Male</td>\n",
       "      <td>36-45</td>\n",
       "      <td>7</td>\n",
       "      <td>1.50</td>\n",
       "      <td>300</td>\n",
       "      <td>3</td>\n",
       "      <td>200</td>\n",
       "      <td>Credit groups</td>\n",
       "      <td>Yes</td>\n",
       "      <td>Radio</td>\n",
       "      <td>County Government</td>\n",
       "      <td>SMS text</td>\n",
       "      <td>Kiswahili</td>\n",
       "    </tr>\n",
       "    <tr>\n",
       "      <th>4</th>\n",
       "      <td>Certificate</td>\n",
       "      <td>Male</td>\n",
       "      <td>46-55</td>\n",
       "      <td>3</td>\n",
       "      <td>NaN</td>\n",
       "      <td>50</td>\n",
       "      <td>2</td>\n",
       "      <td>180</td>\n",
       "      <td>Credit groups</td>\n",
       "      <td>Yes</td>\n",
       "      <td>Radio</td>\n",
       "      <td>Private Provider</td>\n",
       "      <td>Phone Calls</td>\n",
       "      <td>Vernacular</td>\n",
       "    </tr>\n",
       "  </tbody>\n",
       "</table>\n",
       "</div>"
      ],
      "text/plain": [
       "     Education Gender Age bracket  Household size  Acreage  Fertilizer amount  \\\n",
       "0  Certificate   Male       36-45               7     2.00                 50   \n",
       "1  Certificate   Male       36-45               7     0.25                 50   \n",
       "2  Certificate   Male       36-45               7     3.00                251   \n",
       "3  Certificate   Male       36-45               7     1.50                300   \n",
       "4  Certificate   Male       46-55               3      NaN                 50   \n",
       "\n",
       "   Laborers  Yield Main credit source Farm records Main advisory source  \\\n",
       "0         2    300      Credit groups          Yes                Radio   \n",
       "1         2    270      Credit groups          Yes                Radio   \n",
       "2         2    270      Credit groups          Yes                Radio   \n",
       "3         3    200      Credit groups          Yes                Radio   \n",
       "4         2    180      Credit groups          Yes                Radio   \n",
       "\n",
       "  Extension provider Advisory format Advisory language  \n",
       "0   Private Provider     Phone Calls        Vernacular  \n",
       "1  County Government        SMS text         Kiswahili  \n",
       "2   Private Provider     Phone Calls        Vernacular  \n",
       "3  County Government        SMS text         Kiswahili  \n",
       "4   Private Provider     Phone Calls        Vernacular  "
      ]
     },
     "execution_count": 15,
     "metadata": {},
     "output_type": "execute_result"
    }
   ],
   "source": [
    "# Then, our subset selected for analysis is:\n",
    "corn_subset = corn[['Education', 'Gender', 'Age bracket',\n",
    "                    'Household size', 'Acreage', 'Fertilizer amount', 'Laborers',\n",
    "                    'Yield', 'Main credit source', 'Farm records', \n",
    "                    'Main advisory source', 'Extension provider', 'Advisory format', \n",
    "                    'Advisory language']]\n",
    "corn_subset.head()"
   ]
  },
  {
   "cell_type": "code",
   "execution_count": 16,
   "metadata": {},
   "outputs": [],
   "source": [
    "# Column names in our refined dataframe are converted to lowercase, and spaces are removed for consistency and usability:\n",
    "corn_subset.columns = [name.lower() for name in corn_subset.columns]\n",
    "corn_subset.columns = [name.replace(\" \",\"_\") for name in corn_subset.columns]"
   ]
  },
  {
   "cell_type": "code",
   "execution_count": 17,
   "metadata": {},
   "outputs": [
    {
     "data": {
      "text/html": [
       "<div>\n",
       "<style scoped>\n",
       "    .dataframe tbody tr th:only-of-type {\n",
       "        vertical-align: middle;\n",
       "    }\n",
       "\n",
       "    .dataframe tbody tr th {\n",
       "        vertical-align: top;\n",
       "    }\n",
       "\n",
       "    .dataframe thead th {\n",
       "        text-align: right;\n",
       "    }\n",
       "</style>\n",
       "<table border=\"1\" class=\"dataframe\">\n",
       "  <thead>\n",
       "    <tr style=\"text-align: right;\">\n",
       "      <th></th>\n",
       "      <th>education</th>\n",
       "      <th>gender</th>\n",
       "      <th>age_bracket</th>\n",
       "      <th>household_size</th>\n",
       "      <th>acreage</th>\n",
       "      <th>fertilizer_amount</th>\n",
       "      <th>laborers</th>\n",
       "      <th>yield</th>\n",
       "      <th>main_credit_source</th>\n",
       "      <th>farm_records</th>\n",
       "      <th>main_advisory_source</th>\n",
       "      <th>extension_provider</th>\n",
       "      <th>advisory_format</th>\n",
       "      <th>advisory_language</th>\n",
       "    </tr>\n",
       "  </thead>\n",
       "  <tbody>\n",
       "    <tr>\n",
       "      <th>0</th>\n",
       "      <td>Certificate</td>\n",
       "      <td>Male</td>\n",
       "      <td>36-45</td>\n",
       "      <td>7</td>\n",
       "      <td>2.00</td>\n",
       "      <td>50</td>\n",
       "      <td>2</td>\n",
       "      <td>300</td>\n",
       "      <td>Credit groups</td>\n",
       "      <td>Yes</td>\n",
       "      <td>Radio</td>\n",
       "      <td>Private Provider</td>\n",
       "      <td>Phone Calls</td>\n",
       "      <td>Vernacular</td>\n",
       "    </tr>\n",
       "    <tr>\n",
       "      <th>1</th>\n",
       "      <td>Certificate</td>\n",
       "      <td>Male</td>\n",
       "      <td>36-45</td>\n",
       "      <td>7</td>\n",
       "      <td>0.25</td>\n",
       "      <td>50</td>\n",
       "      <td>2</td>\n",
       "      <td>270</td>\n",
       "      <td>Credit groups</td>\n",
       "      <td>Yes</td>\n",
       "      <td>Radio</td>\n",
       "      <td>County Government</td>\n",
       "      <td>SMS text</td>\n",
       "      <td>Kiswahili</td>\n",
       "    </tr>\n",
       "    <tr>\n",
       "      <th>2</th>\n",
       "      <td>Certificate</td>\n",
       "      <td>Male</td>\n",
       "      <td>36-45</td>\n",
       "      <td>7</td>\n",
       "      <td>3.00</td>\n",
       "      <td>251</td>\n",
       "      <td>2</td>\n",
       "      <td>270</td>\n",
       "      <td>Credit groups</td>\n",
       "      <td>Yes</td>\n",
       "      <td>Radio</td>\n",
       "      <td>Private Provider</td>\n",
       "      <td>Phone Calls</td>\n",
       "      <td>Vernacular</td>\n",
       "    </tr>\n",
       "    <tr>\n",
       "      <th>3</th>\n",
       "      <td>Certificate</td>\n",
       "      <td>Male</td>\n",
       "      <td>36-45</td>\n",
       "      <td>7</td>\n",
       "      <td>1.50</td>\n",
       "      <td>300</td>\n",
       "      <td>3</td>\n",
       "      <td>200</td>\n",
       "      <td>Credit groups</td>\n",
       "      <td>Yes</td>\n",
       "      <td>Radio</td>\n",
       "      <td>County Government</td>\n",
       "      <td>SMS text</td>\n",
       "      <td>Kiswahili</td>\n",
       "    </tr>\n",
       "    <tr>\n",
       "      <th>4</th>\n",
       "      <td>Certificate</td>\n",
       "      <td>Male</td>\n",
       "      <td>46-55</td>\n",
       "      <td>3</td>\n",
       "      <td>NaN</td>\n",
       "      <td>50</td>\n",
       "      <td>2</td>\n",
       "      <td>180</td>\n",
       "      <td>Credit groups</td>\n",
       "      <td>Yes</td>\n",
       "      <td>Radio</td>\n",
       "      <td>Private Provider</td>\n",
       "      <td>Phone Calls</td>\n",
       "      <td>Vernacular</td>\n",
       "    </tr>\n",
       "  </tbody>\n",
       "</table>\n",
       "</div>"
      ],
      "text/plain": [
       "     education gender age_bracket  household_size  acreage  fertilizer_amount  \\\n",
       "0  Certificate   Male       36-45               7     2.00                 50   \n",
       "1  Certificate   Male       36-45               7     0.25                 50   \n",
       "2  Certificate   Male       36-45               7     3.00                251   \n",
       "3  Certificate   Male       36-45               7     1.50                300   \n",
       "4  Certificate   Male       46-55               3      NaN                 50   \n",
       "\n",
       "   laborers  yield main_credit_source farm_records main_advisory_source  \\\n",
       "0         2    300      Credit groups          Yes                Radio   \n",
       "1         2    270      Credit groups          Yes                Radio   \n",
       "2         2    270      Credit groups          Yes                Radio   \n",
       "3         3    200      Credit groups          Yes                Radio   \n",
       "4         2    180      Credit groups          Yes                Radio   \n",
       "\n",
       "  extension_provider advisory_format advisory_language  \n",
       "0   Private Provider     Phone Calls        Vernacular  \n",
       "1  County Government        SMS text         Kiswahili  \n",
       "2   Private Provider     Phone Calls        Vernacular  \n",
       "3  County Government        SMS text         Kiswahili  \n",
       "4   Private Provider     Phone Calls        Vernacular  "
      ]
     },
     "execution_count": 17,
     "metadata": {},
     "output_type": "execute_result"
    }
   ],
   "source": [
    "corn_subset.head()"
   ]
  },
  {
   "cell_type": "code",
   "execution_count": 18,
   "metadata": {},
   "outputs": [
    {
     "data": {
      "text/plain": [
       "education               26\n",
       "gender                   0\n",
       "age_bracket              0\n",
       "household_size           0\n",
       "acreage                 71\n",
       "fertilizer_amount        0\n",
       "laborers                 0\n",
       "yield                    0\n",
       "main_credit_source       0\n",
       "farm_records             0\n",
       "main_advisory_source     0\n",
       "extension_provider       0\n",
       "advisory_format          0\n",
       "advisory_language        0\n",
       "dtype: int64"
      ]
     },
     "execution_count": 18,
     "metadata": {},
     "output_type": "execute_result"
    }
   ],
   "source": [
    "# Then, let's see the null values\n",
    "corn_subset.isna().sum()"
   ]
  },
  {
   "cell_type": "code",
   "execution_count": 19,
   "metadata": {},
   "outputs": [
    {
     "data": {
      "text/html": [
       "<div>\n",
       "<style scoped>\n",
       "    .dataframe tbody tr th:only-of-type {\n",
       "        vertical-align: middle;\n",
       "    }\n",
       "\n",
       "    .dataframe tbody tr th {\n",
       "        vertical-align: top;\n",
       "    }\n",
       "\n",
       "    .dataframe thead th {\n",
       "        text-align: right;\n",
       "    }\n",
       "</style>\n",
       "<table border=\"1\" class=\"dataframe\">\n",
       "  <thead>\n",
       "    <tr style=\"text-align: right;\">\n",
       "      <th></th>\n",
       "      <th>education</th>\n",
       "      <th>gender</th>\n",
       "      <th>age_bracket</th>\n",
       "      <th>household_size</th>\n",
       "      <th>acreage</th>\n",
       "      <th>fertilizer_amount</th>\n",
       "      <th>laborers</th>\n",
       "      <th>yield</th>\n",
       "      <th>main_credit_source</th>\n",
       "      <th>farm_records</th>\n",
       "      <th>main_advisory_source</th>\n",
       "      <th>extension_provider</th>\n",
       "      <th>advisory_format</th>\n",
       "      <th>advisory_language</th>\n",
       "    </tr>\n",
       "  </thead>\n",
       "  <tbody>\n",
       "    <tr>\n",
       "      <th>4</th>\n",
       "      <td>Certificate</td>\n",
       "      <td>Male</td>\n",
       "      <td>46-55</td>\n",
       "      <td>3</td>\n",
       "      <td>NaN</td>\n",
       "      <td>50</td>\n",
       "      <td>2</td>\n",
       "      <td>180</td>\n",
       "      <td>Credit groups</td>\n",
       "      <td>Yes</td>\n",
       "      <td>Radio</td>\n",
       "      <td>Private Provider</td>\n",
       "      <td>Phone Calls</td>\n",
       "      <td>Vernacular</td>\n",
       "    </tr>\n",
       "    <tr>\n",
       "      <th>13</th>\n",
       "      <td>Certificate</td>\n",
       "      <td>Male</td>\n",
       "      <td>46-55</td>\n",
       "      <td>5</td>\n",
       "      <td>NaN</td>\n",
       "      <td>20</td>\n",
       "      <td>3</td>\n",
       "      <td>135</td>\n",
       "      <td>Savings</td>\n",
       "      <td>No</td>\n",
       "      <td>Extension services</td>\n",
       "      <td>County Government</td>\n",
       "      <td>SMS text</td>\n",
       "      <td>English</td>\n",
       "    </tr>\n",
       "    <tr>\n",
       "      <th>16</th>\n",
       "      <td>Diploma</td>\n",
       "      <td>Female</td>\n",
       "      <td>46-55</td>\n",
       "      <td>5</td>\n",
       "      <td>NaN</td>\n",
       "      <td>25</td>\n",
       "      <td>2</td>\n",
       "      <td>160</td>\n",
       "      <td>Credit groups</td>\n",
       "      <td>Yes</td>\n",
       "      <td>Extension services</td>\n",
       "      <td>County Government</td>\n",
       "      <td>Phone Calls</td>\n",
       "      <td>Kiswahili</td>\n",
       "    </tr>\n",
       "    <tr>\n",
       "      <th>20</th>\n",
       "      <td>Diploma</td>\n",
       "      <td>Male</td>\n",
       "      <td>56-65</td>\n",
       "      <td>1</td>\n",
       "      <td>NaN</td>\n",
       "      <td>20</td>\n",
       "      <td>4</td>\n",
       "      <td>90</td>\n",
       "      <td>Credit groups</td>\n",
       "      <td>Yes</td>\n",
       "      <td>Radio</td>\n",
       "      <td>County Government</td>\n",
       "      <td>SMS text</td>\n",
       "      <td>English</td>\n",
       "    </tr>\n",
       "    <tr>\n",
       "      <th>23</th>\n",
       "      <td>Diploma</td>\n",
       "      <td>Male</td>\n",
       "      <td>56-65</td>\n",
       "      <td>1</td>\n",
       "      <td>NaN</td>\n",
       "      <td>48</td>\n",
       "      <td>2</td>\n",
       "      <td>75</td>\n",
       "      <td>Credit groups</td>\n",
       "      <td>No</td>\n",
       "      <td>Radio</td>\n",
       "      <td>County Government</td>\n",
       "      <td>Phone Calls</td>\n",
       "      <td>Kiswahili</td>\n",
       "    </tr>\n",
       "    <tr>\n",
       "      <th>...</th>\n",
       "      <td>...</td>\n",
       "      <td>...</td>\n",
       "      <td>...</td>\n",
       "      <td>...</td>\n",
       "      <td>...</td>\n",
       "      <td>...</td>\n",
       "      <td>...</td>\n",
       "      <td>...</td>\n",
       "      <td>...</td>\n",
       "      <td>...</td>\n",
       "      <td>...</td>\n",
       "      <td>...</td>\n",
       "      <td>...</td>\n",
       "      <td>...</td>\n",
       "    </tr>\n",
       "    <tr>\n",
       "      <th>391</th>\n",
       "      <td>Secondary</td>\n",
       "      <td>Female</td>\n",
       "      <td>56-65</td>\n",
       "      <td>3</td>\n",
       "      <td>NaN</td>\n",
       "      <td>40</td>\n",
       "      <td>2</td>\n",
       "      <td>70</td>\n",
       "      <td>Credit groups</td>\n",
       "      <td>No</td>\n",
       "      <td>Radio</td>\n",
       "      <td>Private Provider</td>\n",
       "      <td>Phone Calls</td>\n",
       "      <td>Kiswahili</td>\n",
       "    </tr>\n",
       "    <tr>\n",
       "      <th>392</th>\n",
       "      <td>Secondary</td>\n",
       "      <td>Female</td>\n",
       "      <td>46-55</td>\n",
       "      <td>4</td>\n",
       "      <td>NaN</td>\n",
       "      <td>31</td>\n",
       "      <td>3</td>\n",
       "      <td>50</td>\n",
       "      <td>Credit groups</td>\n",
       "      <td>No</td>\n",
       "      <td>Radio</td>\n",
       "      <td>Private Provider</td>\n",
       "      <td>Phone Calls</td>\n",
       "      <td>English</td>\n",
       "    </tr>\n",
       "    <tr>\n",
       "      <th>399</th>\n",
       "      <td>NaN</td>\n",
       "      <td>Female</td>\n",
       "      <td>18-35</td>\n",
       "      <td>6</td>\n",
       "      <td>NaN</td>\n",
       "      <td>20</td>\n",
       "      <td>2</td>\n",
       "      <td>450</td>\n",
       "      <td>Credit groups</td>\n",
       "      <td>No</td>\n",
       "      <td>Public gatherings</td>\n",
       "      <td>County Government</td>\n",
       "      <td>SMS text</td>\n",
       "      <td>English</td>\n",
       "    </tr>\n",
       "    <tr>\n",
       "      <th>409</th>\n",
       "      <td>NaN</td>\n",
       "      <td>Female</td>\n",
       "      <td>36-45</td>\n",
       "      <td>6</td>\n",
       "      <td>NaN</td>\n",
       "      <td>50</td>\n",
       "      <td>2</td>\n",
       "      <td>270</td>\n",
       "      <td>Credit groups</td>\n",
       "      <td>No</td>\n",
       "      <td>Extension services</td>\n",
       "      <td>County Government</td>\n",
       "      <td>Phone Calls</td>\n",
       "      <td>Kiswahili</td>\n",
       "    </tr>\n",
       "    <tr>\n",
       "      <th>419</th>\n",
       "      <td>NaN</td>\n",
       "      <td>Female</td>\n",
       "      <td>46-55</td>\n",
       "      <td>6</td>\n",
       "      <td>NaN</td>\n",
       "      <td>50</td>\n",
       "      <td>2</td>\n",
       "      <td>110</td>\n",
       "      <td>Credit groups</td>\n",
       "      <td>No</td>\n",
       "      <td>Radio</td>\n",
       "      <td>County Government</td>\n",
       "      <td>Phone Calls</td>\n",
       "      <td>Kiswahili</td>\n",
       "    </tr>\n",
       "  </tbody>\n",
       "</table>\n",
       "<p>71 rows × 14 columns</p>\n",
       "</div>"
      ],
      "text/plain": [
       "       education  gender age_bracket  household_size  acreage  \\\n",
       "4    Certificate    Male       46-55               3      NaN   \n",
       "13   Certificate    Male       46-55               5      NaN   \n",
       "16       Diploma  Female       46-55               5      NaN   \n",
       "20       Diploma    Male       56-65               1      NaN   \n",
       "23       Diploma    Male       56-65               1      NaN   \n",
       "..           ...     ...         ...             ...      ...   \n",
       "391    Secondary  Female       56-65               3      NaN   \n",
       "392    Secondary  Female       46-55               4      NaN   \n",
       "399          NaN  Female       18-35               6      NaN   \n",
       "409          NaN  Female       36-45               6      NaN   \n",
       "419          NaN  Female       46-55               6      NaN   \n",
       "\n",
       "     fertilizer_amount  laborers  yield main_credit_source farm_records  \\\n",
       "4                   50         2    180      Credit groups          Yes   \n",
       "13                  20         3    135            Savings           No   \n",
       "16                  25         2    160      Credit groups          Yes   \n",
       "20                  20         4     90      Credit groups          Yes   \n",
       "23                  48         2     75      Credit groups           No   \n",
       "..                 ...       ...    ...                ...          ...   \n",
       "391                 40         2     70      Credit groups           No   \n",
       "392                 31         3     50      Credit groups           No   \n",
       "399                 20         2    450      Credit groups           No   \n",
       "409                 50         2    270      Credit groups           No   \n",
       "419                 50         2    110      Credit groups           No   \n",
       "\n",
       "    main_advisory_source extension_provider advisory_format advisory_language  \n",
       "4                  Radio   Private Provider     Phone Calls        Vernacular  \n",
       "13    Extension services  County Government        SMS text           English  \n",
       "16    Extension services  County Government     Phone Calls         Kiswahili  \n",
       "20                 Radio  County Government        SMS text           English  \n",
       "23                 Radio  County Government     Phone Calls         Kiswahili  \n",
       "..                   ...                ...             ...               ...  \n",
       "391                Radio   Private Provider     Phone Calls         Kiswahili  \n",
       "392                Radio   Private Provider     Phone Calls           English  \n",
       "399    Public gatherings  County Government        SMS text           English  \n",
       "409   Extension services  County Government     Phone Calls         Kiswahili  \n",
       "419                Radio  County Government     Phone Calls         Kiswahili  \n",
       "\n",
       "[71 rows x 14 columns]"
      ]
     },
     "execution_count": 19,
     "metadata": {},
     "output_type": "execute_result"
    }
   ],
   "source": [
    "# The null values in the 'acreage' column are:\n",
    "corn_subset[corn_subset['acreage'].isna()]"
   ]
  },
  {
   "cell_type": "code",
   "execution_count": 20,
   "metadata": {},
   "outputs": [
    {
     "name": "stdout",
     "output_type": "stream",
     "text": [
      "The percentage of registries with missing values of cultivated land represent 16.824644549763033\n"
     ]
    }
   ],
   "source": [
    "# The 71 entries lacking records of the amount of cultivated land are not useful for our objective. \n",
    "# Those registries represent:\n",
    "missing_land = corn_subset['acreage'].isna().sum()\n",
    "amount_ml = (missing_land / corn.shape[0])*100\n",
    "print(f'The percentage of registries with missing values of cultivated land represent {amount_ml}')"
   ]
  },
  {
   "cell_type": "markdown",
   "metadata": {},
   "source": [
    "While removing a large number of missing values is generally not advisable, the lack of access to the research team for clarification and the limited usefulness of this data for our model, these rows will be removed from the dataframe."
   ]
  },
  {
   "cell_type": "code",
   "execution_count": 21,
   "metadata": {},
   "outputs": [],
   "source": [
    "# The resulting dataframe is:\n",
    "filter = corn_subset['acreage'].isna()\n",
    "corn_subset = corn_subset[~filter]"
   ]
  },
  {
   "cell_type": "code",
   "execution_count": 22,
   "metadata": {},
   "outputs": [
    {
     "data": {
      "text/plain": [
       "(23, 14)"
      ]
     },
     "execution_count": 22,
     "metadata": {},
     "output_type": "execute_result"
    }
   ],
   "source": [
    "# The null values in the 'education' columns are:\n",
    "corn_subset[corn_subset['education'].isna()].shape"
   ]
  },
  {
   "cell_type": "markdown",
   "metadata": {},
   "source": [
    "It makes sense that farmers in a developing country might have little to no formal education. Therefore, we can reasonably infer that many of them have not achieved any formal academic qualifications."
   ]
  },
  {
   "cell_type": "code",
   "execution_count": 23,
   "metadata": {},
   "outputs": [],
   "source": [
    "# We populate the missing values in the education column with \"No educated\":\n",
    "corn_subset.loc[corn_subset['education'].isna()] = corn_subset.loc[corn_subset['education'].isna()].fillna('No educated')"
   ]
  },
  {
   "cell_type": "code",
   "execution_count": 24,
   "metadata": {},
   "outputs": [
    {
     "data": {
      "text/plain": [
       "education\n",
       "Primary        195\n",
       "Secondary      108\n",
       "No educated     23\n",
       "Certificate     13\n",
       "Diploma          7\n",
       "Degree           5\n",
       "Name: count, dtype: int64"
      ]
     },
     "execution_count": 24,
     "metadata": {},
     "output_type": "execute_result"
    }
   ],
   "source": [
    "corn_subset['education'].value_counts()"
   ]
  },
  {
   "cell_type": "code",
   "execution_count": 25,
   "metadata": {},
   "outputs": [
    {
     "data": {
      "text/plain": [
       "education               0\n",
       "gender                  0\n",
       "age_bracket             0\n",
       "household_size          0\n",
       "acreage                 0\n",
       "fertilizer_amount       0\n",
       "laborers                0\n",
       "yield                   0\n",
       "main_credit_source      0\n",
       "farm_records            0\n",
       "main_advisory_source    0\n",
       "extension_provider      0\n",
       "advisory_format         0\n",
       "advisory_language       0\n",
       "dtype: int64"
      ]
     },
     "execution_count": 25,
     "metadata": {},
     "output_type": "execute_result"
    }
   ],
   "source": [
    "# Finally, our cleaned dataset does not contains missing values:\n",
    "corn_subset.isna().sum()"
   ]
  },
  {
   "cell_type": "code",
   "execution_count": 26,
   "metadata": {},
   "outputs": [
    {
     "data": {
      "text/html": [
       "<div>\n",
       "<style scoped>\n",
       "    .dataframe tbody tr th:only-of-type {\n",
       "        vertical-align: middle;\n",
       "    }\n",
       "\n",
       "    .dataframe tbody tr th {\n",
       "        vertical-align: top;\n",
       "    }\n",
       "\n",
       "    .dataframe thead th {\n",
       "        text-align: right;\n",
       "    }\n",
       "</style>\n",
       "<table border=\"1\" class=\"dataframe\">\n",
       "  <thead>\n",
       "    <tr style=\"text-align: right;\">\n",
       "      <th></th>\n",
       "      <th>education</th>\n",
       "      <th>gender</th>\n",
       "      <th>age_bracket</th>\n",
       "      <th>household_size</th>\n",
       "      <th>acreage</th>\n",
       "      <th>fertilizer_amount</th>\n",
       "      <th>laborers</th>\n",
       "      <th>yield</th>\n",
       "      <th>main_credit_source</th>\n",
       "      <th>farm_records</th>\n",
       "      <th>main_advisory_source</th>\n",
       "      <th>extension_provider</th>\n",
       "      <th>advisory_format</th>\n",
       "      <th>advisory_language</th>\n",
       "    </tr>\n",
       "  </thead>\n",
       "  <tbody>\n",
       "    <tr>\n",
       "      <th>count</th>\n",
       "      <td>351</td>\n",
       "      <td>351</td>\n",
       "      <td>351</td>\n",
       "      <td>351.000000</td>\n",
       "      <td>351.000000</td>\n",
       "      <td>351.000000</td>\n",
       "      <td>351.000000</td>\n",
       "      <td>351.000000</td>\n",
       "      <td>351</td>\n",
       "      <td>351</td>\n",
       "      <td>351</td>\n",
       "      <td>351</td>\n",
       "      <td>351</td>\n",
       "      <td>351</td>\n",
       "    </tr>\n",
       "    <tr>\n",
       "      <th>unique</th>\n",
       "      <td>6</td>\n",
       "      <td>2</td>\n",
       "      <td>5</td>\n",
       "      <td>NaN</td>\n",
       "      <td>NaN</td>\n",
       "      <td>NaN</td>\n",
       "      <td>NaN</td>\n",
       "      <td>NaN</td>\n",
       "      <td>3</td>\n",
       "      <td>2</td>\n",
       "      <td>5</td>\n",
       "      <td>4</td>\n",
       "      <td>2</td>\n",
       "      <td>3</td>\n",
       "    </tr>\n",
       "    <tr>\n",
       "      <th>top</th>\n",
       "      <td>Primary</td>\n",
       "      <td>Female</td>\n",
       "      <td>36-45</td>\n",
       "      <td>NaN</td>\n",
       "      <td>NaN</td>\n",
       "      <td>NaN</td>\n",
       "      <td>NaN</td>\n",
       "      <td>NaN</td>\n",
       "      <td>Credit groups</td>\n",
       "      <td>No</td>\n",
       "      <td>Radio</td>\n",
       "      <td>County Government</td>\n",
       "      <td>Phone Calls</td>\n",
       "      <td>Kiswahili</td>\n",
       "    </tr>\n",
       "    <tr>\n",
       "      <th>freq</th>\n",
       "      <td>195</td>\n",
       "      <td>249</td>\n",
       "      <td>115</td>\n",
       "      <td>NaN</td>\n",
       "      <td>NaN</td>\n",
       "      <td>NaN</td>\n",
       "      <td>NaN</td>\n",
       "      <td>NaN</td>\n",
       "      <td>266</td>\n",
       "      <td>254</td>\n",
       "      <td>153</td>\n",
       "      <td>203</td>\n",
       "      <td>237</td>\n",
       "      <td>274</td>\n",
       "    </tr>\n",
       "    <tr>\n",
       "      <th>mean</th>\n",
       "      <td>NaN</td>\n",
       "      <td>NaN</td>\n",
       "      <td>NaN</td>\n",
       "      <td>4.319088</td>\n",
       "      <td>0.828063</td>\n",
       "      <td>63.720798</td>\n",
       "      <td>2.814815</td>\n",
       "      <td>243.618234</td>\n",
       "      <td>NaN</td>\n",
       "      <td>NaN</td>\n",
       "      <td>NaN</td>\n",
       "      <td>NaN</td>\n",
       "      <td>NaN</td>\n",
       "      <td>NaN</td>\n",
       "    </tr>\n",
       "    <tr>\n",
       "      <th>std</th>\n",
       "      <td>NaN</td>\n",
       "      <td>NaN</td>\n",
       "      <td>NaN</td>\n",
       "      <td>1.685452</td>\n",
       "      <td>0.584884</td>\n",
       "      <td>65.145346</td>\n",
       "      <td>0.921122</td>\n",
       "      <td>136.714560</td>\n",
       "      <td>NaN</td>\n",
       "      <td>NaN</td>\n",
       "      <td>NaN</td>\n",
       "      <td>NaN</td>\n",
       "      <td>NaN</td>\n",
       "      <td>NaN</td>\n",
       "    </tr>\n",
       "    <tr>\n",
       "      <th>min</th>\n",
       "      <td>NaN</td>\n",
       "      <td>NaN</td>\n",
       "      <td>NaN</td>\n",
       "      <td>1.000000</td>\n",
       "      <td>0.250000</td>\n",
       "      <td>20.000000</td>\n",
       "      <td>2.000000</td>\n",
       "      <td>50.000000</td>\n",
       "      <td>NaN</td>\n",
       "      <td>NaN</td>\n",
       "      <td>NaN</td>\n",
       "      <td>NaN</td>\n",
       "      <td>NaN</td>\n",
       "      <td>NaN</td>\n",
       "    </tr>\n",
       "    <tr>\n",
       "      <th>25%</th>\n",
       "      <td>NaN</td>\n",
       "      <td>NaN</td>\n",
       "      <td>NaN</td>\n",
       "      <td>3.000000</td>\n",
       "      <td>0.500000</td>\n",
       "      <td>25.000000</td>\n",
       "      <td>2.000000</td>\n",
       "      <td>150.000000</td>\n",
       "      <td>NaN</td>\n",
       "      <td>NaN</td>\n",
       "      <td>NaN</td>\n",
       "      <td>NaN</td>\n",
       "      <td>NaN</td>\n",
       "      <td>NaN</td>\n",
       "    </tr>\n",
       "    <tr>\n",
       "      <th>50%</th>\n",
       "      <td>NaN</td>\n",
       "      <td>NaN</td>\n",
       "      <td>NaN</td>\n",
       "      <td>4.000000</td>\n",
       "      <td>0.500000</td>\n",
       "      <td>50.000000</td>\n",
       "      <td>3.000000</td>\n",
       "      <td>200.000000</td>\n",
       "      <td>NaN</td>\n",
       "      <td>NaN</td>\n",
       "      <td>NaN</td>\n",
       "      <td>NaN</td>\n",
       "      <td>NaN</td>\n",
       "      <td>NaN</td>\n",
       "    </tr>\n",
       "    <tr>\n",
       "      <th>75%</th>\n",
       "      <td>NaN</td>\n",
       "      <td>NaN</td>\n",
       "      <td>NaN</td>\n",
       "      <td>6.000000</td>\n",
       "      <td>1.000000</td>\n",
       "      <td>75.000000</td>\n",
       "      <td>3.000000</td>\n",
       "      <td>360.000000</td>\n",
       "      <td>NaN</td>\n",
       "      <td>NaN</td>\n",
       "      <td>NaN</td>\n",
       "      <td>NaN</td>\n",
       "      <td>NaN</td>\n",
       "      <td>NaN</td>\n",
       "    </tr>\n",
       "    <tr>\n",
       "      <th>max</th>\n",
       "      <td>NaN</td>\n",
       "      <td>NaN</td>\n",
       "      <td>NaN</td>\n",
       "      <td>9.000000</td>\n",
       "      <td>4.000000</td>\n",
       "      <td>500.000000</td>\n",
       "      <td>8.000000</td>\n",
       "      <td>600.000000</td>\n",
       "      <td>NaN</td>\n",
       "      <td>NaN</td>\n",
       "      <td>NaN</td>\n",
       "      <td>NaN</td>\n",
       "      <td>NaN</td>\n",
       "      <td>NaN</td>\n",
       "    </tr>\n",
       "  </tbody>\n",
       "</table>\n",
       "</div>"
      ],
      "text/plain": [
       "       education  gender age_bracket  household_size     acreage  \\\n",
       "count        351     351         351      351.000000  351.000000   \n",
       "unique         6       2           5             NaN         NaN   \n",
       "top      Primary  Female       36-45             NaN         NaN   \n",
       "freq         195     249         115             NaN         NaN   \n",
       "mean         NaN     NaN         NaN        4.319088    0.828063   \n",
       "std          NaN     NaN         NaN        1.685452    0.584884   \n",
       "min          NaN     NaN         NaN        1.000000    0.250000   \n",
       "25%          NaN     NaN         NaN        3.000000    0.500000   \n",
       "50%          NaN     NaN         NaN        4.000000    0.500000   \n",
       "75%          NaN     NaN         NaN        6.000000    1.000000   \n",
       "max          NaN     NaN         NaN        9.000000    4.000000   \n",
       "\n",
       "        fertilizer_amount    laborers       yield main_credit_source  \\\n",
       "count          351.000000  351.000000  351.000000                351   \n",
       "unique                NaN         NaN         NaN                  3   \n",
       "top                   NaN         NaN         NaN      Credit groups   \n",
       "freq                  NaN         NaN         NaN                266   \n",
       "mean            63.720798    2.814815  243.618234                NaN   \n",
       "std             65.145346    0.921122  136.714560                NaN   \n",
       "min             20.000000    2.000000   50.000000                NaN   \n",
       "25%             25.000000    2.000000  150.000000                NaN   \n",
       "50%             50.000000    3.000000  200.000000                NaN   \n",
       "75%             75.000000    3.000000  360.000000                NaN   \n",
       "max            500.000000    8.000000  600.000000                NaN   \n",
       "\n",
       "       farm_records main_advisory_source extension_provider advisory_format  \\\n",
       "count           351                  351                351             351   \n",
       "unique            2                    5                  4               2   \n",
       "top              No                Radio  County Government     Phone Calls   \n",
       "freq            254                  153                203             237   \n",
       "mean            NaN                  NaN                NaN             NaN   \n",
       "std             NaN                  NaN                NaN             NaN   \n",
       "min             NaN                  NaN                NaN             NaN   \n",
       "25%             NaN                  NaN                NaN             NaN   \n",
       "50%             NaN                  NaN                NaN             NaN   \n",
       "75%             NaN                  NaN                NaN             NaN   \n",
       "max             NaN                  NaN                NaN             NaN   \n",
       "\n",
       "       advisory_language  \n",
       "count                351  \n",
       "unique                 3  \n",
       "top            Kiswahili  \n",
       "freq                 274  \n",
       "mean                 NaN  \n",
       "std                  NaN  \n",
       "min                  NaN  \n",
       "25%                  NaN  \n",
       "50%                  NaN  \n",
       "75%                  NaN  \n",
       "max                  NaN  "
      ]
     },
     "execution_count": 26,
     "metadata": {},
     "output_type": "execute_result"
    }
   ],
   "source": [
    "# The main statistics for out clean dataset are:\n",
    "corn_subset.describe(include='all')"
   ]
  },
  {
   "cell_type": "markdown",
   "metadata": {},
   "source": [
    "## Step 3: Feature understanding\n",
    "\n",
    "Now, it is important to understand how the selected variables behave:\n",
    "\n",
    "### Target variable (Yield):"
   ]
  },
  {
   "cell_type": "code",
   "execution_count": 27,
   "metadata": {},
   "outputs": [
    {
     "name": "stderr",
     "output_type": "stream",
     "text": [
      "c:\\Users\\jober\\anaconda3\\lib\\site-packages\\seaborn\\_oldcore.py:1119: FutureWarning: use_inf_as_na option is deprecated and will be removed in a future version. Convert inf values to NaN before operating instead.\n",
      "  with pd.option_context('mode.use_inf_as_na', True):\n",
      "c:\\Users\\jober\\anaconda3\\lib\\site-packages\\seaborn\\_oldcore.py:1075: FutureWarning: When grouping with a length-1 list-like, you will need to pass a length-1 tuple to get_group in a future version of pandas. Pass `(name,)` instead of `name` to silence this warning.\n",
      "  data_subset = grouped_data.get_group(pd_key)\n",
      "c:\\Users\\jober\\anaconda3\\lib\\site-packages\\seaborn\\_oldcore.py:1075: FutureWarning: When grouping with a length-1 list-like, you will need to pass a length-1 tuple to get_group in a future version of pandas. Pass `(name,)` instead of `name` to silence this warning.\n",
      "  data_subset = grouped_data.get_group(pd_key)\n",
      "c:\\Users\\jober\\anaconda3\\lib\\site-packages\\seaborn\\_oldcore.py:1075: FutureWarning: When grouping with a length-1 list-like, you will need to pass a length-1 tuple to get_group in a future version of pandas. Pass `(name,)` instead of `name` to silence this warning.\n",
      "  data_subset = grouped_data.get_group(pd_key)\n",
      "c:\\Users\\jober\\anaconda3\\lib\\site-packages\\seaborn\\_oldcore.py:1075: FutureWarning: When grouping with a length-1 list-like, you will need to pass a length-1 tuple to get_group in a future version of pandas. Pass `(name,)` instead of `name` to silence this warning.\n",
      "  data_subset = grouped_data.get_group(pd_key)\n",
      "c:\\Users\\jober\\anaconda3\\lib\\site-packages\\seaborn\\_oldcore.py:1075: FutureWarning: When grouping with a length-1 list-like, you will need to pass a length-1 tuple to get_group in a future version of pandas. Pass `(name,)` instead of `name` to silence this warning.\n",
      "  data_subset = grouped_data.get_group(pd_key)\n"
     ]
    },
    {
     "data": {
      "text/plain": [
       "<Axes: xlabel='yield', ylabel='Count'>"
      ]
     },
     "execution_count": 27,
     "metadata": {},
     "output_type": "execute_result"
    },
    {
     "data": {
      "image/png": "[encoded data removed]",
      "text/plain": [
       "<Figure size 640x480 with 1 Axes>"
      ]
     },
     "metadata": {},
     "output_type": "display_data"
    }
   ],
   "source": [
    "sns.histplot(\n",
    "    corn_subset,\n",
    "    x=\"yield\", hue=\"gender\",\n",
    "    multiple=\"stack\",\n",
    "    kde=True,\n",
    "    palette=\"light:m_r\",\n",
    "    edgecolor=\".3\",\n",
    "    linewidth=.5,\n",
    "    log_scale=False,\n",
    ")"
   ]
  },
  {
   "cell_type": "code",
   "execution_count": 28,
   "metadata": {},
   "outputs": [
    {
     "name": "stdout",
     "output_type": "stream",
     "text": [
      "Mean: 243.61823361823363, Median: 200.0\n",
      "Standard Deviation: 136.71456023727333, IQR: 210.0\n",
      "Skewness: 0.5920366120821166, Kurtosis: -0.5150628368525387\n"
     ]
    }
   ],
   "source": [
    "# The Central Tendency measures are\n",
    "mean = corn_subset['yield'].mean()\n",
    "median = corn_subset['yield'].median()\n",
    "print(f\"Mean: {mean}, Median: {median}\")\n",
    "\n",
    "# The Dispersion measures are\n",
    "std_dev = corn_subset['yield'].std()\n",
    "iqr = corn_subset['yield'].quantile(0.75) - corn_subset['yield'].quantile(0.25)\n",
    "print(f\"Standard Deviation: {std_dev}, IQR: {iqr}\")\n",
    "\n",
    "# The Shape measures are\n",
    "skewness = corn_subset['yield'].skew()\n",
    "kurtosis = corn_subset['yield'].kurt()\n",
    "print(f\"Skewness: {skewness}, Kurtosis: {kurtosis}\")"
   ]
  },
  {
   "cell_type": "code",
   "execution_count": 29,
   "metadata": {},
   "outputs": [
    {
     "data": {
      "image/png": "[encoded data removed]",
      "text/plain": [
       "<Figure size 640x480 with 1 Axes>"
      ]
     },
     "metadata": {},
     "output_type": "display_data"
    }
   ],
   "source": [
    "# The Outliers can be identifyed from a Boxplot\n",
    "sns.boxplot(x=corn_subset['yield'])\n",
    "plt.title('Box Plot')\n",
    "plt.show()"
   ]
  },
  {
   "cell_type": "markdown",
   "metadata": {},
   "source": [
    "There are no outliers visible at first glance."
   ]
  },
  {
   "cell_type": "markdown",
   "metadata": {},
   "source": [
    "- The variable 'education':"
   ]
  },
  {
   "cell_type": "code",
   "execution_count": 30,
   "metadata": {},
   "outputs": [
    {
     "data": {
      "text/plain": [
       "<Axes: xlabel='education', ylabel='yield'>"
      ]
     },
     "execution_count": 30,
     "metadata": {},
     "output_type": "execute_result"
    },
    {
     "data": {
      "image/png": "[encoded data removed]",
      "text/plain": [
       "<Figure size 640x480 with 1 Axes>"
      ]
     },
     "metadata": {},
     "output_type": "display_data"
    }
   ],
   "source": [
    "# The education variable behave as:\n",
    "sns.boxplot(x=corn_subset['education'], y=corn_subset['yield'])"
   ]
  },
  {
   "cell_type": "code",
   "execution_count": 31,
   "metadata": {},
   "outputs": [
    {
     "name": "stdout",
     "output_type": "stream",
     "text": [
      "F-statistic: 4.838129883074475, P-value: 0.00027306321938453895\n",
      "The p-value 0.00027306321938453895 is smaller than 0.05, then there is variability explained by the education of farmers.\n",
      "Thats why It's important to include  this variable in the model\n"
     ]
    }
   ],
   "source": [
    "# To validate the variability in yield explained by the farmer's 'education', I'll execute a one-way anova \n",
    "\n",
    "# The firts step is spliting the categories in the column as follows:\n",
    "groups = [group[\"yield\"].values for name, group in corn_subset.groupby(\"education\")]\n",
    "\n",
    "# Then the actual ANOVA is performed using \n",
    "f_stat, p_value = f_oneway(*groups)\n",
    "print(f\"F-statistic: {f_stat}, P-value: {p_value}\")\n",
    "\n",
    "print(f\"The p-value {p_value} is smaller than 0.05, then there is variability explained by the education of farmers.\")\n",
    "print(\"Thats why It's important to include  this variable in the model\")"
   ]
  },
  {
   "cell_type": "markdown",
   "metadata": {},
   "source": [
    "- The variable 'gender':"
   ]
  },
  {
   "cell_type": "code",
   "execution_count": 32,
   "metadata": {},
   "outputs": [
    {
     "data": {
      "image/png": "[encoded data removed]",
      "text/plain": [
       "<Figure size 640x480 with 1 Axes>"
      ]
     },
     "metadata": {},
     "output_type": "display_data"
    }
   ],
   "source": [
    "# The 'gender' variable behave as:\n",
    "sns.boxplot(x=\"gender\", y=\"yield\", data=corn_subset)\n",
    "plt.title(\"Yield of corn distribution by Gender\")\n",
    "plt.show()"
   ]
  },
  {
   "cell_type": "code",
   "execution_count": 33,
   "metadata": {},
   "outputs": [
    {
     "name": "stdout",
     "output_type": "stream",
     "text": [
      "Normality Test (Shapiro-Wilk):\n",
      "Yield of corn for Male: ShapiroResult(statistic=0.9241487383842468, pvalue=1.970140147022903e-05)\n",
      "Yield of corn for Female: ShapiroResult(statistic=0.9340603351593018, pvalue=4.104549145012015e-09)\n",
      "\n",
      "Levene’s Test for Equal Variance:\n",
      "Statistic: 14.10703328403133, P-value: 0.00020229504720311082\n",
      "There is homogeinity of variance between genders [0.00020229504720311082 is smaller than 0.05]\n"
     ]
    }
   ],
   "source": [
    "# Gruoping the dataframe using gender \n",
    "male_yield = corn_subset[corn_subset[\"gender\"] == \"Male\"][\"yield\"]\n",
    "female_yield = corn_subset[corn_subset[\"gender\"] == \"Female\"][\"yield\"]\n",
    "\n",
    "# Test for Normality (Shapiro-Wilk)\n",
    "print(\"Normality Test (Shapiro-Wilk):\")\n",
    "print(\"Yield of corn for Male:\", shapiro(male_yield))\n",
    "print(\"Yield of corn for Female:\", shapiro(female_yield))\n",
    "\n",
    "# Test for Equal Variances (Levene’s Test)\n",
    "stat, p = levene(male_yield, female_yield)\n",
    "print(\"\\nLevene’s Test for Equal Variance:\")\n",
    "print(f\"Statistic: {stat}, P-value: {p}\")\n",
    "print(f'There is homogeinity of variance between genders [{p} is smaller than 0.05]')"
   ]
  },
  {
   "cell_type": "code",
   "execution_count": 34,
   "metadata": {},
   "outputs": [
    {
     "name": "stdout",
     "output_type": "stream",
     "text": [
      "\n",
      "Two-sample T-test:\n",
      "T-statistic: 1.6819565062645667, P-value: 0.09347176264933382\n"
     ]
    }
   ],
   "source": [
    "# Use T-test\n",
    "t_stat, t_p = ttest_ind(male_yield, female_yield, equal_var=True)\n",
    "print(\"\\nTwo-sample T-test:\")\n",
    "print(f\"T-statistic: {t_stat}, P-value: {t_p}\")"
   ]
  },
  {
   "cell_type": "markdown",
   "metadata": {},
   "source": [
    "As identified, the calculated p-value of 0.0934717 is higher than 0.05. Therefore, there is no statistical difference between the genders of the farmers, and this variable will not be included in our first iteration of the models.\n",
    "\n",
    "- Variable 'age_braket':"
   ]
  },
  {
   "cell_type": "code",
   "execution_count": 35,
   "metadata": {},
   "outputs": [
    {
     "data": {
      "image/png": "[encoded data removed]",
      "text/plain": [
       "<Figure size 640x480 with 1 Axes>"
      ]
     },
     "metadata": {},
     "output_type": "display_data"
    }
   ],
   "source": [
    "# The 'age_bracket' variable behave as:\n",
    "sns.boxplot(x=\"age_bracket\", y=\"yield\", data=corn_subset)\n",
    "plt.title(\"Yield of corn distribution by Age braket\")\n",
    "plt.show()"
   ]
  },
  {
   "cell_type": "code",
   "execution_count": 36,
   "metadata": {},
   "outputs": [],
   "source": [
    "# From the illustration above, I identifyed atypical data in the '46-55' age_bracket category. Then,\n",
    "# I'll use the function described as:\n",
    "\n",
    "def atypical_data (df, target, variable, label):\n",
    "\n",
    "    segment_data = df[df[variable] == label][target]\n",
    "\n",
    "    Q1 = segment_data.quantile(0.25)\n",
    "    Q3 = segment_data.quantile(0.75)\n",
    "    IQR = Q3 - Q1\n",
    "    Inf_Limit = Q1 - (1.5*IQR)\n",
    "    Sup_Limit = Q3 + (1.5*IQR)\n",
    "\n",
    "    outliers = df[(df[variable] == label) & ((df[target] < Inf_Limit) | (df[target] > Sup_Limit))]\n",
    "    \n",
    "    return outliers"
   ]
  },
  {
   "cell_type": "code",
   "execution_count": 37,
   "metadata": {},
   "outputs": [
    {
     "data": {
      "text/html": [
       "<div>\n",
       "<style scoped>\n",
       "    .dataframe tbody tr th:only-of-type {\n",
       "        vertical-align: middle;\n",
       "    }\n",
       "\n",
       "    .dataframe tbody tr th {\n",
       "        vertical-align: top;\n",
       "    }\n",
       "\n",
       "    .dataframe thead th {\n",
       "        text-align: right;\n",
       "    }\n",
       "</style>\n",
       "<table border=\"1\" class=\"dataframe\">\n",
       "  <thead>\n",
       "    <tr style=\"text-align: right;\">\n",
       "      <th></th>\n",
       "      <th>education</th>\n",
       "      <th>gender</th>\n",
       "      <th>age_bracket</th>\n",
       "      <th>household_size</th>\n",
       "      <th>acreage</th>\n",
       "      <th>fertilizer_amount</th>\n",
       "      <th>laborers</th>\n",
       "      <th>yield</th>\n",
       "      <th>main_credit_source</th>\n",
       "      <th>farm_records</th>\n",
       "      <th>main_advisory_source</th>\n",
       "      <th>extension_provider</th>\n",
       "      <th>advisory_format</th>\n",
       "      <th>advisory_language</th>\n",
       "    </tr>\n",
       "  </thead>\n",
       "  <tbody>\n",
       "    <tr>\n",
       "      <th>19</th>\n",
       "      <td>Diploma</td>\n",
       "      <td>Female</td>\n",
       "      <td>46-55</td>\n",
       "      <td>5</td>\n",
       "      <td>0.50</td>\n",
       "      <td>20</td>\n",
       "      <td>3</td>\n",
       "      <td>100</td>\n",
       "      <td>Credit groups</td>\n",
       "      <td>Yes</td>\n",
       "      <td>Public gatherings</td>\n",
       "      <td>National Government</td>\n",
       "      <td>Phone Calls</td>\n",
       "      <td>Kiswahili</td>\n",
       "    </tr>\n",
       "    <tr>\n",
       "      <th>22</th>\n",
       "      <td>Diploma</td>\n",
       "      <td>Female</td>\n",
       "      <td>46-55</td>\n",
       "      <td>5</td>\n",
       "      <td>0.25</td>\n",
       "      <td>50</td>\n",
       "      <td>3</td>\n",
       "      <td>90</td>\n",
       "      <td>Credit groups</td>\n",
       "      <td>No</td>\n",
       "      <td>Radio</td>\n",
       "      <td>County Government</td>\n",
       "      <td>Phone Calls</td>\n",
       "      <td>Kiswahili</td>\n",
       "    </tr>\n",
       "    <tr>\n",
       "      <th>209</th>\n",
       "      <td>Primary</td>\n",
       "      <td>Female</td>\n",
       "      <td>46-55</td>\n",
       "      <td>2</td>\n",
       "      <td>0.75</td>\n",
       "      <td>20</td>\n",
       "      <td>4</td>\n",
       "      <td>100</td>\n",
       "      <td>Family</td>\n",
       "      <td>Yes</td>\n",
       "      <td>Extension services</td>\n",
       "      <td>County Government</td>\n",
       "      <td>SMS text</td>\n",
       "      <td>Kiswahili</td>\n",
       "    </tr>\n",
       "    <tr>\n",
       "      <th>210</th>\n",
       "      <td>Primary</td>\n",
       "      <td>Female</td>\n",
       "      <td>46-55</td>\n",
       "      <td>2</td>\n",
       "      <td>0.50</td>\n",
       "      <td>20</td>\n",
       "      <td>3</td>\n",
       "      <td>100</td>\n",
       "      <td>Credit groups</td>\n",
       "      <td>Yes</td>\n",
       "      <td>Extension services</td>\n",
       "      <td>County Government</td>\n",
       "      <td>SMS text</td>\n",
       "      <td>Kiswahili</td>\n",
       "    </tr>\n",
       "    <tr>\n",
       "      <th>214</th>\n",
       "      <td>Primary</td>\n",
       "      <td>Female</td>\n",
       "      <td>46-55</td>\n",
       "      <td>2</td>\n",
       "      <td>0.50</td>\n",
       "      <td>20</td>\n",
       "      <td>3</td>\n",
       "      <td>100</td>\n",
       "      <td>Credit groups</td>\n",
       "      <td>No</td>\n",
       "      <td>Public gatherings</td>\n",
       "      <td>National Government</td>\n",
       "      <td>Phone Calls</td>\n",
       "      <td>Kiswahili</td>\n",
       "    </tr>\n",
       "    <tr>\n",
       "      <th>240</th>\n",
       "      <td>Primary</td>\n",
       "      <td>Female</td>\n",
       "      <td>46-55</td>\n",
       "      <td>2</td>\n",
       "      <td>0.50</td>\n",
       "      <td>50</td>\n",
       "      <td>4</td>\n",
       "      <td>90</td>\n",
       "      <td>Credit groups</td>\n",
       "      <td>No</td>\n",
       "      <td>Public gatherings</td>\n",
       "      <td>Private Provider</td>\n",
       "      <td>Phone Calls</td>\n",
       "      <td>Kiswahili</td>\n",
       "    </tr>\n",
       "    <tr>\n",
       "      <th>270</th>\n",
       "      <td>Secondary</td>\n",
       "      <td>Male</td>\n",
       "      <td>46-55</td>\n",
       "      <td>1</td>\n",
       "      <td>4.00</td>\n",
       "      <td>300</td>\n",
       "      <td>8</td>\n",
       "      <td>600</td>\n",
       "      <td>Savings</td>\n",
       "      <td>No</td>\n",
       "      <td>Radio</td>\n",
       "      <td>County Government</td>\n",
       "      <td>SMS text</td>\n",
       "      <td>Kiswahili</td>\n",
       "    </tr>\n",
       "    <tr>\n",
       "      <th>375</th>\n",
       "      <td>Secondary</td>\n",
       "      <td>Female</td>\n",
       "      <td>46-55</td>\n",
       "      <td>4</td>\n",
       "      <td>0.75</td>\n",
       "      <td>25</td>\n",
       "      <td>3</td>\n",
       "      <td>100</td>\n",
       "      <td>Credit groups</td>\n",
       "      <td>Yes</td>\n",
       "      <td>Public gatherings</td>\n",
       "      <td>KALRO</td>\n",
       "      <td>SMS text</td>\n",
       "      <td>Kiswahili</td>\n",
       "    </tr>\n",
       "    <tr>\n",
       "      <th>382</th>\n",
       "      <td>Secondary</td>\n",
       "      <td>Female</td>\n",
       "      <td>46-55</td>\n",
       "      <td>5</td>\n",
       "      <td>0.30</td>\n",
       "      <td>25</td>\n",
       "      <td>3</td>\n",
       "      <td>100</td>\n",
       "      <td>Savings</td>\n",
       "      <td>No</td>\n",
       "      <td>Public gatherings</td>\n",
       "      <td>County Government</td>\n",
       "      <td>SMS text</td>\n",
       "      <td>Kiswahili</td>\n",
       "    </tr>\n",
       "    <tr>\n",
       "      <th>383</th>\n",
       "      <td>Secondary</td>\n",
       "      <td>Female</td>\n",
       "      <td>46-55</td>\n",
       "      <td>4</td>\n",
       "      <td>1.00</td>\n",
       "      <td>50</td>\n",
       "      <td>2</td>\n",
       "      <td>90</td>\n",
       "      <td>Credit groups</td>\n",
       "      <td>No</td>\n",
       "      <td>Extension services</td>\n",
       "      <td>Private Provider</td>\n",
       "      <td>Phone Calls</td>\n",
       "      <td>Kiswahili</td>\n",
       "    </tr>\n",
       "    <tr>\n",
       "      <th>388</th>\n",
       "      <td>Secondary</td>\n",
       "      <td>Female</td>\n",
       "      <td>46-55</td>\n",
       "      <td>5</td>\n",
       "      <td>1.00</td>\n",
       "      <td>50</td>\n",
       "      <td>2</td>\n",
       "      <td>90</td>\n",
       "      <td>Family</td>\n",
       "      <td>No</td>\n",
       "      <td>Public gatherings</td>\n",
       "      <td>Private Provider</td>\n",
       "      <td>Phone Calls</td>\n",
       "      <td>Vernacular</td>\n",
       "    </tr>\n",
       "    <tr>\n",
       "      <th>420</th>\n",
       "      <td>No educated</td>\n",
       "      <td>Male</td>\n",
       "      <td>46-55</td>\n",
       "      <td>6</td>\n",
       "      <td>0.75</td>\n",
       "      <td>25</td>\n",
       "      <td>3</td>\n",
       "      <td>100</td>\n",
       "      <td>Credit groups</td>\n",
       "      <td>No</td>\n",
       "      <td>Radio</td>\n",
       "      <td>County Government</td>\n",
       "      <td>Phone Calls</td>\n",
       "      <td>Kiswahili</td>\n",
       "    </tr>\n",
       "    <tr>\n",
       "      <th>421</th>\n",
       "      <td>No educated</td>\n",
       "      <td>Male</td>\n",
       "      <td>46-55</td>\n",
       "      <td>6</td>\n",
       "      <td>0.25</td>\n",
       "      <td>50</td>\n",
       "      <td>3</td>\n",
       "      <td>90</td>\n",
       "      <td>Credit groups</td>\n",
       "      <td>No</td>\n",
       "      <td>Radio</td>\n",
       "      <td>Private Provider</td>\n",
       "      <td>Phone Calls</td>\n",
       "      <td>Kiswahili</td>\n",
       "    </tr>\n",
       "  </tbody>\n",
       "</table>\n",
       "</div>"
      ],
      "text/plain": [
       "       education  gender age_bracket  household_size  acreage  \\\n",
       "19       Diploma  Female       46-55               5     0.50   \n",
       "22       Diploma  Female       46-55               5     0.25   \n",
       "209      Primary  Female       46-55               2     0.75   \n",
       "210      Primary  Female       46-55               2     0.50   \n",
       "214      Primary  Female       46-55               2     0.50   \n",
       "240      Primary  Female       46-55               2     0.50   \n",
       "270    Secondary    Male       46-55               1     4.00   \n",
       "375    Secondary  Female       46-55               4     0.75   \n",
       "382    Secondary  Female       46-55               5     0.30   \n",
       "383    Secondary  Female       46-55               4     1.00   \n",
       "388    Secondary  Female       46-55               5     1.00   \n",
       "420  No educated    Male       46-55               6     0.75   \n",
       "421  No educated    Male       46-55               6     0.25   \n",
       "\n",
       "     fertilizer_amount  laborers  yield main_credit_source farm_records  \\\n",
       "19                  20         3    100      Credit groups          Yes   \n",
       "22                  50         3     90      Credit groups           No   \n",
       "209                 20         4    100             Family          Yes   \n",
       "210                 20         3    100      Credit groups          Yes   \n",
       "214                 20         3    100      Credit groups           No   \n",
       "240                 50         4     90      Credit groups           No   \n",
       "270                300         8    600            Savings           No   \n",
       "375                 25         3    100      Credit groups          Yes   \n",
       "382                 25         3    100            Savings           No   \n",
       "383                 50         2     90      Credit groups           No   \n",
       "388                 50         2     90             Family           No   \n",
       "420                 25         3    100      Credit groups           No   \n",
       "421                 50         3     90      Credit groups           No   \n",
       "\n",
       "    main_advisory_source   extension_provider advisory_format  \\\n",
       "19     Public gatherings  National Government     Phone Calls   \n",
       "22                 Radio    County Government     Phone Calls   \n",
       "209   Extension services    County Government        SMS text   \n",
       "210   Extension services    County Government        SMS text   \n",
       "214    Public gatherings  National Government     Phone Calls   \n",
       "240    Public gatherings     Private Provider     Phone Calls   \n",
       "270                Radio    County Government        SMS text   \n",
       "375    Public gatherings                KALRO        SMS text   \n",
       "382    Public gatherings    County Government        SMS text   \n",
       "383   Extension services     Private Provider     Phone Calls   \n",
       "388    Public gatherings     Private Provider     Phone Calls   \n",
       "420                Radio    County Government     Phone Calls   \n",
       "421                Radio     Private Provider     Phone Calls   \n",
       "\n",
       "    advisory_language  \n",
       "19          Kiswahili  \n",
       "22          Kiswahili  \n",
       "209         Kiswahili  \n",
       "210         Kiswahili  \n",
       "214         Kiswahili  \n",
       "240         Kiswahili  \n",
       "270         Kiswahili  \n",
       "375         Kiswahili  \n",
       "382         Kiswahili  \n",
       "383         Kiswahili  \n",
       "388        Vernacular  \n",
       "420         Kiswahili  \n",
       "421         Kiswahili  "
      ]
     },
     "execution_count": 37,
     "metadata": {},
     "output_type": "execute_result"
    }
   ],
   "source": [
    "# The farmers between 46 and 55 years old with atypical production of corn are: \n",
    "aty_age = atypical_data(corn_subset, 'yield', 'age_bracket', '46-55')\n",
    "aty_age.head(15)"
   ]
  },
  {
   "cell_type": "markdown",
   "metadata": {},
   "source": [
    "While there is one row in the yield column with 600 units, this individual appears to have greater access to resources. He cultivate four times more land than others and use fertilizer more intensively. He also uses his own financial resources for farming. It is reasonable to infer that this farmer is wealthier than their peers. I concluded that there are no illogical entries in the dataset for this variable."
   ]
  },
  {
   "cell_type": "code",
   "execution_count": 38,
   "metadata": {},
   "outputs": [
    {
     "name": "stdout",
     "output_type": "stream",
     "text": [
      "Normality Test (Shapiro-Wilk):\n",
      "yield of 18-35: ShapiroResult(statistic=0.8395863771438599, pvalue=5.543294889776007e-08)\n",
      "yield of 36-45: ShapiroResult(statistic=0.9041250944137573, pvalue=5.131573175276571e-07)\n",
      "yield of 46-55: ShapiroResult(statistic=0.48733508586883545, pvalue=6.713705959714936e-16)\n",
      "yield of 56-65: ShapiroResult(statistic=0.8015334606170654, pvalue=7.838396527404257e-07)\n",
      "yield of above 65: ShapiroResult(statistic=0.590883731842041, pvalue=1.3296380529936869e-05)\n",
      "\n",
      "Levene’s Test for Equal Variance:\n",
      "Statistic: 12.843165533161223, P-value: 9.278764010475584e-10\n",
      "There is homogeinity of variance between age brackets [9.278764010475584e-10 is smaller than 0.05]\n"
     ]
    }
   ],
   "source": [
    "# The firts step is spliting the categories in the column as follows:\n",
    "groups_age = [group[\"yield\"].values for name, group in corn_subset.groupby(\"age_bracket\")]\n",
    "\n",
    "# Test for Normality (Shapiro-Wilk)\n",
    "print(\"Normality Test (Shapiro-Wilk):\")\n",
    "print(\"yield of 18-35:\", shapiro(groups_age[0]))\n",
    "print(\"yield of 36-45:\", shapiro(groups_age[1]))\n",
    "print(\"yield of 46-55:\", shapiro(groups_age[2]))\n",
    "print(\"yield of 56-65:\", shapiro(groups_age[3]))\n",
    "print(\"yield of above 65:\", shapiro(groups_age[4]))\n",
    "\n",
    "# Test for Equal Variances (Levene’s Test)\n",
    "stat, p = levene(*groups_age)\n",
    "print(\"\\nLevene’s Test for Equal Variance:\")\n",
    "print(f\"Statistic: {stat}, P-value: {p}\")\n",
    "print(f'There is homogeinity of variance between age brackets [{p} is smaller than 0.05]')"
   ]
  },
  {
   "cell_type": "code",
   "execution_count": 39,
   "metadata": {},
   "outputs": [
    {
     "name": "stdout",
     "output_type": "stream",
     "text": [
      "F-statistic: 442.83832687956397, P-value: 1.1520387424452078e-134\n",
      "The p-value 1.1520387424452078e-134 is smaller than 0.05, then there is variability explained by the age of farmers.\n",
      "Thats why It's important to include  this variable in the model\n"
     ]
    }
   ],
   "source": [
    "# Then a one-way ANOVA is performed using \n",
    "f_stat, p_value = f_oneway(*groups_age)\n",
    "print(f\"F-statistic: {f_stat}, P-value: {p_value}\")\n",
    "\n",
    "print(f\"The p-value {p_value} is smaller than 0.05, then there is variability explained by the age of farmers.\")\n",
    "print(\"Thats why It's important to include  this variable in the model\")"
   ]
  },
  {
   "cell_type": "markdown",
   "metadata": {},
   "source": [
    "- Variable 'household_size': <br>\n",
    "<br>\n",
    "The values taken by the variable are:"
   ]
  },
  {
   "cell_type": "code",
   "execution_count": 40,
   "metadata": {},
   "outputs": [
    {
     "name": "stdout",
     "output_type": "stream",
     "text": [
      "[7 3 6 5 1 2 9 4 8]\n",
      "\n",
      " While those are numeric values, they are best treated as categories.\n"
     ]
    }
   ],
   "source": [
    "print(corn_subset['household_size'].unique())\n",
    "print('\\n While those are numeric values, they are best treated as categories.')"
   ]
  },
  {
   "cell_type": "code",
   "execution_count": 41,
   "metadata": {},
   "outputs": [],
   "source": [
    "#Transformation of the data type in the variable 'household_size':\n",
    "corn_subset['household_size'] = corn_subset['household_size'].apply(str)"
   ]
  },
  {
   "cell_type": "code",
   "execution_count": 42,
   "metadata": {},
   "outputs": [
    {
     "data": {
      "image/png": "[encoded data removed]",
      "text/plain": [
       "<Figure size 640x480 with 1 Axes>"
      ]
     },
     "metadata": {},
     "output_type": "display_data"
    }
   ],
   "source": [
    "# Now, the 'household_size' variable behave as:\n",
    "sns.boxplot(x=\"household_size\", y=\"yield\", data=corn_subset)\n",
    "plt.title(\"Yield of corn distribution by household size\")\n",
    "plt.show()"
   ]
  },
  {
   "cell_type": "code",
   "execution_count": 43,
   "metadata": {},
   "outputs": [
    {
     "data": {
      "text/html": [
       "<div>\n",
       "<style scoped>\n",
       "    .dataframe tbody tr th:only-of-type {\n",
       "        vertical-align: middle;\n",
       "    }\n",
       "\n",
       "    .dataframe tbody tr th {\n",
       "        vertical-align: top;\n",
       "    }\n",
       "\n",
       "    .dataframe thead th {\n",
       "        text-align: right;\n",
       "    }\n",
       "</style>\n",
       "<table border=\"1\" class=\"dataframe\">\n",
       "  <thead>\n",
       "    <tr style=\"text-align: right;\">\n",
       "      <th></th>\n",
       "      <th>education</th>\n",
       "      <th>gender</th>\n",
       "      <th>age_bracket</th>\n",
       "      <th>household_size</th>\n",
       "      <th>acreage</th>\n",
       "      <th>fertilizer_amount</th>\n",
       "      <th>laborers</th>\n",
       "      <th>yield</th>\n",
       "      <th>main_credit_source</th>\n",
       "      <th>farm_records</th>\n",
       "      <th>main_advisory_source</th>\n",
       "      <th>extension_provider</th>\n",
       "      <th>advisory_format</th>\n",
       "      <th>advisory_language</th>\n",
       "    </tr>\n",
       "  </thead>\n",
       "  <tbody>\n",
       "    <tr>\n",
       "      <th>41</th>\n",
       "      <td>Primary</td>\n",
       "      <td>Female</td>\n",
       "      <td>18-35</td>\n",
       "      <td>2</td>\n",
       "      <td>0.5</td>\n",
       "      <td>40</td>\n",
       "      <td>3</td>\n",
       "      <td>560</td>\n",
       "      <td>Savings</td>\n",
       "      <td>No</td>\n",
       "      <td>Extension services</td>\n",
       "      <td>County Government</td>\n",
       "      <td>SMS text</td>\n",
       "      <td>Kiswahili</td>\n",
       "    </tr>\n",
       "    <tr>\n",
       "      <th>272</th>\n",
       "      <td>Secondary</td>\n",
       "      <td>Male</td>\n",
       "      <td>18-35</td>\n",
       "      <td>2</td>\n",
       "      <td>2.0</td>\n",
       "      <td>150</td>\n",
       "      <td>2</td>\n",
       "      <td>550</td>\n",
       "      <td>Credit groups</td>\n",
       "      <td>No</td>\n",
       "      <td>Radio</td>\n",
       "      <td>County Government</td>\n",
       "      <td>Phone Calls</td>\n",
       "      <td>Kiswahili</td>\n",
       "    </tr>\n",
       "  </tbody>\n",
       "</table>\n",
       "</div>"
      ],
      "text/plain": [
       "     education  gender age_bracket household_size  acreage  fertilizer_amount  \\\n",
       "41     Primary  Female       18-35              2      0.5                 40   \n",
       "272  Secondary    Male       18-35              2      2.0                150   \n",
       "\n",
       "     laborers  yield main_credit_source farm_records main_advisory_source  \\\n",
       "41          3    560            Savings           No   Extension services   \n",
       "272         2    550      Credit groups           No                Radio   \n",
       "\n",
       "    extension_provider advisory_format advisory_language  \n",
       "41   County Government        SMS text         Kiswahili  \n",
       "272  County Government     Phone Calls         Kiswahili  "
      ]
     },
     "execution_count": 43,
     "metadata": {},
     "output_type": "execute_result"
    }
   ],
   "source": [
    "# As evaluated in the age_bracket variable, the are some possible outliers at second and nineth categories. Then,\n",
    "aty_hs_2 = atypical_data(corn_subset, 'yield', 'household_size', '2')\n",
    "aty_hs_2"
   ]
  },
  {
   "cell_type": "code",
   "execution_count": 44,
   "metadata": {},
   "outputs": [
    {
     "data": {
      "text/html": [
       "<div>\n",
       "<style scoped>\n",
       "    .dataframe tbody tr th:only-of-type {\n",
       "        vertical-align: middle;\n",
       "    }\n",
       "\n",
       "    .dataframe tbody tr th {\n",
       "        vertical-align: top;\n",
       "    }\n",
       "\n",
       "    .dataframe thead th {\n",
       "        text-align: right;\n",
       "    }\n",
       "</style>\n",
       "<table border=\"1\" class=\"dataframe\">\n",
       "  <thead>\n",
       "    <tr style=\"text-align: right;\">\n",
       "      <th></th>\n",
       "      <th>education</th>\n",
       "      <th>gender</th>\n",
       "      <th>age_bracket</th>\n",
       "      <th>household_size</th>\n",
       "      <th>acreage</th>\n",
       "      <th>fertilizer_amount</th>\n",
       "      <th>laborers</th>\n",
       "      <th>yield</th>\n",
       "      <th>main_credit_source</th>\n",
       "      <th>farm_records</th>\n",
       "      <th>main_advisory_source</th>\n",
       "      <th>extension_provider</th>\n",
       "      <th>advisory_format</th>\n",
       "      <th>advisory_language</th>\n",
       "    </tr>\n",
       "  </thead>\n",
       "  <tbody>\n",
       "    <tr>\n",
       "      <th>40</th>\n",
       "      <td>Primary</td>\n",
       "      <td>Female</td>\n",
       "      <td>18-35</td>\n",
       "      <td>9</td>\n",
       "      <td>1.0</td>\n",
       "      <td>50</td>\n",
       "      <td>3</td>\n",
       "      <td>600</td>\n",
       "      <td>Credit groups</td>\n",
       "      <td>No</td>\n",
       "      <td>Public gatherings</td>\n",
       "      <td>Private Provider</td>\n",
       "      <td>Phone Calls</td>\n",
       "      <td>Kiswahili</td>\n",
       "    </tr>\n",
       "  </tbody>\n",
       "</table>\n",
       "</div>"
      ],
      "text/plain": [
       "   education  gender age_bracket household_size  acreage  fertilizer_amount  \\\n",
       "40   Primary  Female       18-35              9      1.0                 50   \n",
       "\n",
       "    laborers  yield main_credit_source farm_records main_advisory_source  \\\n",
       "40         3    600      Credit groups           No    Public gatherings   \n",
       "\n",
       "   extension_provider advisory_format advisory_language  \n",
       "40   Private Provider     Phone Calls         Kiswahili  "
      ]
     },
     "execution_count": 44,
     "metadata": {},
     "output_type": "execute_result"
    }
   ],
   "source": [
    "# And also:\n",
    "aty_hs_9 = atypical_data(corn_subset, 'yield', 'household_size', '9')\n",
    "aty_hs_9"
   ]
  },
  {
   "cell_type": "markdown",
   "metadata": {},
   "source": [
    "These are records of farmers that break the consistency of the dataframe, particularly due to the small number of laborers they use. Therefore, it is reasonable to classify them as outliers that should be removed."
   ]
  },
  {
   "cell_type": "code",
   "execution_count": 45,
   "metadata": {},
   "outputs": [],
   "source": [
    "# Merging the 2 subsets of outliers:\n",
    "aty_hs_merged = pd.concat([aty_hs_2, aty_hs_9], axis=0, ignore_index=False)\n",
    "aty_hs_merged\n",
    "# Dropping the outliers\n",
    "corn_subset = corn_subset.drop(aty_hs_merged.index)"
   ]
  },
  {
   "cell_type": "code",
   "execution_count": 46,
   "metadata": {},
   "outputs": [
    {
     "name": "stdout",
     "output_type": "stream",
     "text": [
      "Normality Test (Shapiro-Wilk):\n",
      "yield of 0: ShapiroResult(statistic=0.8795545697212219, pvalue=0.04672493413090706)\n",
      "yield of 1: ShapiroResult(statistic=0.9173285961151123, pvalue=0.008162393234670162)\n",
      "yield of 2: ShapiroResult(statistic=0.9358439445495605, pvalue=0.0026786376256495714)\n",
      "yield of 3: ShapiroResult(statistic=0.9325151443481445, pvalue=0.002094114199280739)\n",
      "yield of 4: ShapiroResult(statistic=0.9219567179679871, pvalue=0.00010677475074771792)\n",
      "yield of 5: ShapiroResult(statistic=0.9473256468772888, pvalue=0.007819188758730888)\n",
      "yield of 6: ShapiroResult(statistic=0.9634010195732117, pvalue=0.7512395977973938)\n",
      "yield of 7: ShapiroResult(statistic=0.8280540108680725, pvalue=0.1034771054983139)\n",
      "yield of 8: ShapiroResult(statistic=0.9493671655654907, pvalue=0.566536603762676)\n",
      "\n",
      "Levene’s Test for Equal Variance:\n",
      "Statistic: 4.181869419648638, P-value: 8.630420474869085e-05\n",
      "There is homogeinity of variance between household size [8.630420474869085e-05 is smaller than 0.05]\n"
     ]
    }
   ],
   "source": [
    "# Let's continue the same procedure for categorical variables as before:\n",
    "groups_hsize = [group[\"yield\"].values for name, group in corn_subset.groupby(\"household_size\")]\n",
    "\n",
    "# Test for Normality (Shapiro-Wilk)\n",
    "print(\"Normality Test (Shapiro-Wilk):\")\n",
    "for position, value in enumerate(groups_hsize):\n",
    "    try:\n",
    "        print(f\"yield of {position}:\", shapiro(value))\n",
    "    except:\n",
    "        print(f\"error at {position}:\")\n",
    "\n",
    "# Test for Equal Variances (Levene’s Test)\n",
    "stat, p = levene(*groups_hsize)\n",
    "print(\"\\nLevene’s Test for Equal Variance:\")\n",
    "print(f\"Statistic: {stat}, P-value: {p}\")\n",
    "print(f'There is homogeinity of variance between household size [{p} is smaller than 0.05]')"
   ]
  },
  {
   "cell_type": "code",
   "execution_count": 47,
   "metadata": {},
   "outputs": [
    {
     "name": "stdout",
     "output_type": "stream",
     "text": [
      "\n",
      "Kruskal-Wallis H Test:\n",
      "U-statistic: 15.880820122870858, P-value: 0.044118057103630565\n"
     ]
    }
   ],
   "source": [
    "# Some of the household sizes does not follow a normal distribution. \n",
    "# Then, I'll apply the non-parametric alternative test for comparaison (Kruskal-Wallis Test):\n",
    "\n",
    "stat, p = kruskal(*groups_hsize)\n",
    "print(\"\\nKruskal-Wallis H Test:\")\n",
    "print(f\"U-statistic: {stat}, P-value: {p}\")"
   ]
  },
  {
   "cell_type": "markdown",
   "metadata": {},
   "source": [
    "The P-value calculated 0.044118057103630565 is smaller than 0.05, then tehre is variability explained by the number of households in the dataset. Therefore, This variable should be included in the model.\n",
    "\n",
    "- Variable 'laborers':\n"
   ]
  },
  {
   "cell_type": "code",
   "execution_count": 48,
   "metadata": {},
   "outputs": [
    {
     "data": {
      "image/png": "[encoded data removed]",
      "text/plain": [
       "<Figure size 640x480 with 1 Axes>"
      ]
     },
     "metadata": {},
     "output_type": "display_data"
    }
   ],
   "source": [
    "# Now, the 'laborers' variable behave as:\n",
    "sns.boxplot(x=\"laborers\", y=\"yield\", data=corn_subset)\n",
    "plt.title(\"Yield of corn distribution by number of laborers\")\n",
    "plt.show()"
   ]
  },
  {
   "cell_type": "code",
   "execution_count": 49,
   "metadata": {},
   "outputs": [
    {
     "data": {
      "text/html": [
       "<div>\n",
       "<style scoped>\n",
       "    .dataframe tbody tr th:only-of-type {\n",
       "        vertical-align: middle;\n",
       "    }\n",
       "\n",
       "    .dataframe tbody tr th {\n",
       "        vertical-align: top;\n",
       "    }\n",
       "\n",
       "    .dataframe thead th {\n",
       "        text-align: right;\n",
       "    }\n",
       "</style>\n",
       "<table border=\"1\" class=\"dataframe\">\n",
       "  <thead>\n",
       "    <tr style=\"text-align: right;\">\n",
       "      <th></th>\n",
       "      <th>education</th>\n",
       "      <th>gender</th>\n",
       "      <th>age_bracket</th>\n",
       "      <th>household_size</th>\n",
       "      <th>acreage</th>\n",
       "      <th>fertilizer_amount</th>\n",
       "      <th>laborers</th>\n",
       "      <th>yield</th>\n",
       "      <th>main_credit_source</th>\n",
       "      <th>farm_records</th>\n",
       "      <th>main_advisory_source</th>\n",
       "      <th>extension_provider</th>\n",
       "      <th>advisory_format</th>\n",
       "      <th>advisory_language</th>\n",
       "    </tr>\n",
       "  </thead>\n",
       "  <tbody>\n",
       "    <tr>\n",
       "      <th>26</th>\n",
       "      <td>Degree</td>\n",
       "      <td>Male</td>\n",
       "      <td>18-35</td>\n",
       "      <td>6</td>\n",
       "      <td>0.5</td>\n",
       "      <td>20</td>\n",
       "      <td>3</td>\n",
       "      <td>540</td>\n",
       "      <td>Credit groups</td>\n",
       "      <td>No</td>\n",
       "      <td>Radio</td>\n",
       "      <td>Private Provider</td>\n",
       "      <td>Phone Calls</td>\n",
       "      <td>Kiswahili</td>\n",
       "    </tr>\n",
       "    <tr>\n",
       "      <th>44</th>\n",
       "      <td>Primary</td>\n",
       "      <td>Female</td>\n",
       "      <td>18-35</td>\n",
       "      <td>4</td>\n",
       "      <td>2.0</td>\n",
       "      <td>50</td>\n",
       "      <td>3</td>\n",
       "      <td>540</td>\n",
       "      <td>Credit groups</td>\n",
       "      <td>No</td>\n",
       "      <td>Extension services</td>\n",
       "      <td>County Government</td>\n",
       "      <td>Phone Calls</td>\n",
       "      <td>Kiswahili</td>\n",
       "    </tr>\n",
       "    <tr>\n",
       "      <th>46</th>\n",
       "      <td>Primary</td>\n",
       "      <td>Male</td>\n",
       "      <td>18-35</td>\n",
       "      <td>5</td>\n",
       "      <td>0.5</td>\n",
       "      <td>20</td>\n",
       "      <td>3</td>\n",
       "      <td>540</td>\n",
       "      <td>Credit groups</td>\n",
       "      <td>No</td>\n",
       "      <td>Radio</td>\n",
       "      <td>County Government</td>\n",
       "      <td>Phone Calls</td>\n",
       "      <td>Kiswahili</td>\n",
       "    </tr>\n",
       "    <tr>\n",
       "      <th>47</th>\n",
       "      <td>Primary</td>\n",
       "      <td>Female</td>\n",
       "      <td>18-35</td>\n",
       "      <td>4</td>\n",
       "      <td>0.5</td>\n",
       "      <td>25</td>\n",
       "      <td>3</td>\n",
       "      <td>540</td>\n",
       "      <td>Credit groups</td>\n",
       "      <td>No</td>\n",
       "      <td>Extension services</td>\n",
       "      <td>Private Provider</td>\n",
       "      <td>SMS text</td>\n",
       "      <td>Kiswahili</td>\n",
       "    </tr>\n",
       "    <tr>\n",
       "      <th>48</th>\n",
       "      <td>Primary</td>\n",
       "      <td>Female</td>\n",
       "      <td>18-35</td>\n",
       "      <td>4</td>\n",
       "      <td>1.0</td>\n",
       "      <td>50</td>\n",
       "      <td>3</td>\n",
       "      <td>540</td>\n",
       "      <td>Family</td>\n",
       "      <td>Yes</td>\n",
       "      <td>Radio</td>\n",
       "      <td>Private Provider</td>\n",
       "      <td>Phone Calls</td>\n",
       "      <td>Vernacular</td>\n",
       "    </tr>\n",
       "    <tr>\n",
       "      <th>50</th>\n",
       "      <td>Primary</td>\n",
       "      <td>Male</td>\n",
       "      <td>18-35</td>\n",
       "      <td>6</td>\n",
       "      <td>0.5</td>\n",
       "      <td>100</td>\n",
       "      <td>3</td>\n",
       "      <td>540</td>\n",
       "      <td>Credit groups</td>\n",
       "      <td>No</td>\n",
       "      <td>Public gatherings</td>\n",
       "      <td>County Government</td>\n",
       "      <td>Phone Calls</td>\n",
       "      <td>Kiswahili</td>\n",
       "    </tr>\n",
       "    <tr>\n",
       "      <th>274</th>\n",
       "      <td>Secondary</td>\n",
       "      <td>Male</td>\n",
       "      <td>18-35</td>\n",
       "      <td>8</td>\n",
       "      <td>0.5</td>\n",
       "      <td>20</td>\n",
       "      <td>3</td>\n",
       "      <td>540</td>\n",
       "      <td>Savings</td>\n",
       "      <td>No</td>\n",
       "      <td>Extension services</td>\n",
       "      <td>County Government</td>\n",
       "      <td>Phone Calls</td>\n",
       "      <td>Kiswahili</td>\n",
       "    </tr>\n",
       "  </tbody>\n",
       "</table>\n",
       "</div>"
      ],
      "text/plain": [
       "     education  gender age_bracket household_size  acreage  fertilizer_amount  \\\n",
       "26      Degree    Male       18-35              6      0.5                 20   \n",
       "44     Primary  Female       18-35              4      2.0                 50   \n",
       "46     Primary    Male       18-35              5      0.5                 20   \n",
       "47     Primary  Female       18-35              4      0.5                 25   \n",
       "48     Primary  Female       18-35              4      1.0                 50   \n",
       "50     Primary    Male       18-35              6      0.5                100   \n",
       "274  Secondary    Male       18-35              8      0.5                 20   \n",
       "\n",
       "    laborers  yield main_credit_source farm_records main_advisory_source  \\\n",
       "26         3    540      Credit groups           No                Radio   \n",
       "44         3    540      Credit groups           No   Extension services   \n",
       "46         3    540      Credit groups           No                Radio   \n",
       "47         3    540      Credit groups           No   Extension services   \n",
       "48         3    540             Family          Yes                Radio   \n",
       "50         3    540      Credit groups           No    Public gatherings   \n",
       "274        3    540            Savings           No   Extension services   \n",
       "\n",
       "    extension_provider advisory_format advisory_language  \n",
       "26    Private Provider     Phone Calls         Kiswahili  \n",
       "44   County Government     Phone Calls         Kiswahili  \n",
       "46   County Government     Phone Calls         Kiswahili  \n",
       "47    Private Provider        SMS text         Kiswahili  \n",
       "48    Private Provider     Phone Calls        Vernacular  \n",
       "50   County Government     Phone Calls         Kiswahili  \n",
       "274  County Government     Phone Calls         Kiswahili  "
      ]
     },
     "execution_count": 49,
     "metadata": {},
     "output_type": "execute_result"
    }
   ],
   "source": [
    "#Transformation of the data type in the variable 'laborers':\n",
    "corn_subset['laborers'] = corn_subset['laborers'].apply(str)\n",
    "\n",
    "# The are some possible outliers in the category of '3' outliers. Then,\n",
    "aty_lb_3 = atypical_data(corn_subset, 'yield', 'laborers', '3')\n",
    "aty_lb_3"
   ]
  },
  {
   "cell_type": "markdown",
   "metadata": {},
   "source": [
    "However, I have no arguments to eliminate those registries from the dataset. Therefore, I will keep it for now."
   ]
  },
  {
   "cell_type": "code",
   "execution_count": 50,
   "metadata": {},
   "outputs": [
    {
     "name": "stdout",
     "output_type": "stream",
     "text": [
      "Normality Test (Shapiro-Wilk):\n",
      "yield of 0: ShapiroResult(statistic=0.9531834721565247, pvalue=5.1066421292489395e-05)\n",
      "yield of 1: ShapiroResult(statistic=0.8836978077888489, pvalue=1.049409448228289e-08)\n",
      "yield of 2: ShapiroResult(statistic=0.9193204641342163, pvalue=0.0045183864422142506)\n",
      "yield of 3: ShapiroResult(statistic=0.9056992530822754, pvalue=0.08465549349784851)\n",
      "error at 4:\n",
      "error at 5:\n",
      "\n",
      "Levene’s Test for Equal Variance:\n",
      "Statistic: 0.777665024360423, P-value: 0.5663373611801408\n",
      "There isn't homogeinity of variance between number of laborers [0.5663373611801408 is greater than 0.05]\n"
     ]
    }
   ],
   "source": [
    "# Let's continue the same procedure for categorical variables as before:\n",
    "groups_laborers = [group[\"yield\"].values for name, group in corn_subset.groupby(\"laborers\")]\n",
    "\n",
    "# Test for Normality (Shapiro-Wilk)\n",
    "print(\"Normality Test (Shapiro-Wilk):\")\n",
    "for position, value in enumerate(groups_laborers):\n",
    "    try:\n",
    "        print(f\"yield of {position}:\", shapiro(value))\n",
    "    except:\n",
    "        print(f\"error at {position}:\")\n",
    "\n",
    "# Test for Equal Variances (Levene’s Test)\n",
    "stat, p = levene(*groups_laborers)\n",
    "print(\"\\nLevene’s Test for Equal Variance:\")\n",
    "print(f\"Statistic: {stat}, P-value: {p}\")\n",
    "print(f\"There isn't homogeinity of variance between number of laborers [{p} is greater than 0.05]\")"
   ]
  },
  {
   "cell_type": "code",
   "execution_count": 51,
   "metadata": {},
   "outputs": [
    {
     "name": "stdout",
     "output_type": "stream",
     "text": [
      "\n",
      "Kruskal-Wallis H Test:\n",
      "U-statistic: 11.81765698264309, P-value: 0.03737355155094598\n"
     ]
    }
   ],
   "source": [
    "# The assumption of normally distributed data could not be proven, and there is no evidence of heteroscedasticity. \n",
    "# Then, I'll apply the non-parametric alternative test for comparaison (Kruskal-Wallis Test):\n",
    "\n",
    "stat, p = kruskal(*groups_laborers)\n",
    "print(\"\\nKruskal-Wallis H Test:\")\n",
    "print(f\"U-statistic: {stat}, P-value: {p}\")"
   ]
  },
  {
   "cell_type": "markdown",
   "metadata": {},
   "source": [
    "The P-value calculated 0.03737355155094598 is smaller than 0.05, then there is variability explained by the number of laborers used for corn production. Therefore, This variable should be included in the model.\n",
    "\n",
    "- Variable 'main_credit_source': "
   ]
  },
  {
   "cell_type": "code",
   "execution_count": 52,
   "metadata": {},
   "outputs": [
    {
     "data": {
      "image/png": "[encoded data removed]",
      "text/plain": [
       "<Figure size 640x480 with 1 Axes>"
      ]
     },
     "metadata": {},
     "output_type": "display_data"
    }
   ],
   "source": [
    "# Now, the 'main_credit_source' variable behave as:\n",
    "sns.boxplot(x=\"main_credit_source\", y=\"yield\", data=corn_subset)\n",
    "plt.title(\"Yield of corn distribution by the credit source used\")\n",
    "plt.show()"
   ]
  },
  {
   "cell_type": "code",
   "execution_count": 53,
   "metadata": {},
   "outputs": [
    {
     "name": "stdout",
     "output_type": "stream",
     "text": [
      "Normality Test (Shapiro-Wilk):\n",
      "yield of 0: ShapiroResult(statistic=0.9367485046386719, pvalue=3.2421196838328115e-09)\n",
      "yield of 1: ShapiroResult(statistic=0.9326149821281433, pvalue=0.001920896116644144)\n",
      "yield of 2: ShapiroResult(statistic=0.8819704055786133, pvalue=0.015891628339886665)\n",
      "\n",
      "Levene’s Test for Equal Variance:\n",
      "Statistic: 1.1363844765604671, P-value: 0.32217585973230534\n",
      "There are unequal variances between credit source types because [0.32217585973230534 is greater than 0.05]\n"
     ]
    }
   ],
   "source": [
    "# Let's continue the same procedure for categorical variables as before:\n",
    "groups_credit = [group[\"yield\"].values for name, group in corn_subset.groupby(\"main_credit_source\")]\n",
    "\n",
    "# Test for Normality (Shapiro-Wilk)\n",
    "print(\"Normality Test (Shapiro-Wilk):\")\n",
    "for position, value in enumerate(groups_credit):\n",
    "    try:\n",
    "        print(f\"yield of {position}:\", shapiro(value))\n",
    "    except:\n",
    "        print(f\"error at {position}:\")\n",
    "\n",
    "# Test for Equal Variances (Levene’s Test)\n",
    "stat, p = levene(*groups_credit)\n",
    "print(\"\\nLevene’s Test for Equal Variance:\")\n",
    "print(f\"Statistic: {stat}, P-value: {p}\")\n",
    "print(f\"There are unequal variances between credit source types because [{p} is greater than 0.05]\")"
   ]
  },
  {
   "cell_type": "code",
   "execution_count": 54,
   "metadata": {},
   "outputs": [
    {
     "name": "stdout",
     "output_type": "stream",
     "text": [
      "\n",
      "Kruskal-Wallis H Test:\n",
      "U-statistic: 2.7124829702940683, P-value: 0.2576272554200043\n"
     ]
    }
   ],
   "source": [
    "# Then, I'll apply the non-parametric alternative test for comparaison (Kruskal-Wallis Test):\n",
    "stat, p = kruskal(*groups_credit)\n",
    "print(\"\\nKruskal-Wallis H Test:\")\n",
    "print(f\"U-statistic: {stat}, P-value: {p}\")"
   ]
  },
  {
   "cell_type": "markdown",
   "metadata": {},
   "source": [
    "The p-value of 0.257627 calculated above is greater than 0.05; therefore, there is no significant impact on corn production due to the source of credit used by the farmers.\n",
    "\n",
    "- Variable 'farm_records':"
   ]
  },
  {
   "cell_type": "code",
   "execution_count": 55,
   "metadata": {},
   "outputs": [
    {
     "data": {
      "image/png": "[encoded data removed]",
      "text/plain": [
       "<Figure size 640x480 with 1 Axes>"
      ]
     },
     "metadata": {},
     "output_type": "display_data"
    }
   ],
   "source": [
    "# Now, the 'farm_records' variable behave as:\n",
    "sns.boxplot(x=\"farm_records\", y=\"yield\", data=corn_subset)\n",
    "plt.title(\"Yield of corn distribution by record\")\n",
    "plt.show()"
   ]
  },
  {
   "cell_type": "code",
   "execution_count": 56,
   "metadata": {},
   "outputs": [
    {
     "name": "stdout",
     "output_type": "stream",
     "text": [
      "Normality Test (Shapiro-Wilk):\n",
      "Yield of corn for farms with records: ShapiroResult(statistic=0.9375982880592346, pvalue=0.00017543781723361462)\n",
      "Yield of corn for farms without records: ShapiroResult(statistic=0.9339780211448669, pvalue=3.6114335966175304e-09)\n",
      "\n",
      "Levene’s Test for Equal Variance:\n",
      "Statistic: 0.009050288756066782, P-value: 0.9242642534392604\n",
      "There are unequal variances between both groups because [0.9242642534392604 is greater than 0.05]\n"
     ]
    }
   ],
   "source": [
    "# Let's continue the same procedure for categorical variables as before:\n",
    "farm_wr = corn_subset[corn_subset['farm_records'] == 'Yes']['yield']\n",
    "farm_wnr = corn_subset[corn_subset['farm_records'] == 'No']['yield']\n",
    "\n",
    "# Test for Normality (Shapiro-Wilk)\n",
    "print(\"Normality Test (Shapiro-Wilk):\")\n",
    "print(\"Yield of corn for farms with records:\", shapiro(farm_wr))\n",
    "print(\"Yield of corn for farms without records:\", shapiro(farm_wnr))\n",
    "\n",
    "# Test for Equal Variances (Levene’s Test)\n",
    "stat, p = levene(farm_wr, farm_wnr)\n",
    "print(\"\\nLevene’s Test for Equal Variance:\")\n",
    "print(f\"Statistic: {stat}, P-value: {p}\")\n",
    "print(f\"There are unequal variances between both groups because [{p} is greater than 0.05]\")"
   ]
  },
  {
   "cell_type": "code",
   "execution_count": 57,
   "metadata": {},
   "outputs": [
    {
     "name": "stdout",
     "output_type": "stream",
     "text": [
      "U-statistic: 12163.0, P-value: 0.9904699265948796\n"
     ]
    }
   ],
   "source": [
    "# Then, I'll apply the non-parametric alternative test for comparaison (U Mann-Withney Test):\n",
    "stat, p = mannwhitneyu(farm_wr, farm_wnr, alternative='two-sided')\n",
    "print(f\"U-statistic: {stat}, P-value: {p}\")"
   ]
  },
  {
   "cell_type": "markdown",
   "metadata": {},
   "source": [
    "The p-value of 0.9900469 calculated above is greater than 0.05; therefore, there is no significant impact on corn production due to the practice of keeping records in the plantations.\n",
    "\n",
    "- Variable 'main_advisory_source':"
   ]
  },
  {
   "cell_type": "code",
   "execution_count": 58,
   "metadata": {},
   "outputs": [
    {
     "data": {
      "image/png": "[encoded data removed]",
      "text/plain": [
       "<Figure size 640x480 with 1 Axes>"
      ]
     },
     "metadata": {},
     "output_type": "display_data"
    }
   ],
   "source": [
    "# Now, the 'main_advisory_source' variable behave as:\n",
    "sns.boxplot(x=\"main_advisory_source\", y=\"yield\", data=corn_subset)\n",
    "plt.title(\"Yield of corn distribution by advisory source\")\n",
    "plt.show()"
   ]
  },
  {
   "cell_type": "code",
   "execution_count": 59,
   "metadata": {},
   "outputs": [
    {
     "name": "stdout",
     "output_type": "stream",
     "text": [
      "Normality Test (Shapiro-Wilk):\n",
      "yield of 0: ShapiroResult(statistic=0.9391025900840759, pvalue=0.00044431351125240326)\n",
      "yield of 1: ShapiroResult(statistic=0.891899824142456, pvalue=0.1781221181154251)\n",
      "yield of 2: ShapiroResult(statistic=0.9071366190910339, pvalue=1.0544154974923003e-05)\n",
      "yield of 3: ShapiroResult(statistic=0.9364785552024841, pvalue=2.513865638320567e-06)\n",
      "yield of 4: ShapiroResult(statistic=0.9266844987869263, pvalue=0.416083961725235)\n",
      "\n",
      "Levene’s Test for Equal Variance:\n",
      "Statistic: 1.2911396532844712, P-value: 0.27313675248966346\n",
      "There are unequal variances between different advisory groups because 0.27313675248966346 is greater than 0.05\n"
     ]
    }
   ],
   "source": [
    "# Let's continue the same procedure for categorical variables as before:\n",
    "groups_adv = [group[\"yield\"].values for name, group in corn_subset.groupby(\"main_advisory_source\")]\n",
    "\n",
    "# Test for Normality (Shapiro-Wilk)\n",
    "print(\"Normality Test (Shapiro-Wilk):\")\n",
    "for position, value in enumerate(groups_adv):\n",
    "    try:\n",
    "        print(f\"yield of {position}:\", shapiro(value))\n",
    "    except:\n",
    "        print(f\"error at {position}:\")\n",
    "\n",
    "# Test for Equal Variances (Levene’s Test)\n",
    "stat, p = levene(*groups_adv)\n",
    "print(\"\\nLevene’s Test for Equal Variance:\")\n",
    "print(f\"Statistic: {stat}, P-value: {p}\")\n",
    "print(f\"There are unequal variances between different advisory groups because {p} is greater than 0.05\")"
   ]
  },
  {
   "cell_type": "code",
   "execution_count": 60,
   "metadata": {},
   "outputs": [
    {
     "name": "stdout",
     "output_type": "stream",
     "text": [
      "\n",
      "Kruskal-Wallis H Test:\n",
      "U-statistic: 12.526935380979374, P-value: 0.013834216039429878\n"
     ]
    }
   ],
   "source": [
    "# Then, I'll apply the non-parametric alternative test for comparaison (Kruskal-Wallis Test):\n",
    "stat, p = kruskal(*groups_adv)\n",
    "print(\"\\nKruskal-Wallis H Test:\")\n",
    "print(f\"U-statistic: {stat}, P-value: {p}\")"
   ]
  },
  {
   "cell_type": "markdown",
   "metadata": {},
   "source": [
    "The calculated p-value 0.01383421 is smaller than 0.05, then the variable of advisory group will be included in the model.\n",
    "\n",
    "- Variable 'extension_provider':"
   ]
  },
  {
   "cell_type": "code",
   "execution_count": 61,
   "metadata": {},
   "outputs": [
    {
     "data": {
      "image/png": "[encoded data removed]",
      "text/plain": [
       "<Figure size 640x480 with 1 Axes>"
      ]
     },
     "metadata": {},
     "output_type": "display_data"
    }
   ],
   "source": [
    "# Now, the 'extension_provider' variable behave as:\n",
    "sns.boxplot(x=\"extension_provider\", y=\"yield\", data=corn_subset)\n",
    "plt.title(\"Yield of corn distribution by extension provider\")\n",
    "plt.show()"
   ]
  },
  {
   "cell_type": "code",
   "execution_count": 62,
   "metadata": {},
   "outputs": [
    {
     "data": {
      "text/html": [
       "<div>\n",
       "<style scoped>\n",
       "    .dataframe tbody tr th:only-of-type {\n",
       "        vertical-align: middle;\n",
       "    }\n",
       "\n",
       "    .dataframe tbody tr th {\n",
       "        vertical-align: top;\n",
       "    }\n",
       "\n",
       "    .dataframe thead th {\n",
       "        text-align: right;\n",
       "    }\n",
       "</style>\n",
       "<table border=\"1\" class=\"dataframe\">\n",
       "  <thead>\n",
       "    <tr style=\"text-align: right;\">\n",
       "      <th></th>\n",
       "      <th>education</th>\n",
       "      <th>gender</th>\n",
       "      <th>age_bracket</th>\n",
       "      <th>household_size</th>\n",
       "      <th>acreage</th>\n",
       "      <th>fertilizer_amount</th>\n",
       "      <th>laborers</th>\n",
       "      <th>yield</th>\n",
       "      <th>main_credit_source</th>\n",
       "      <th>farm_records</th>\n",
       "      <th>main_advisory_source</th>\n",
       "      <th>extension_provider</th>\n",
       "      <th>advisory_format</th>\n",
       "      <th>advisory_language</th>\n",
       "    </tr>\n",
       "  </thead>\n",
       "  <tbody>\n",
       "    <tr>\n",
       "      <th>271</th>\n",
       "      <td>Secondary</td>\n",
       "      <td>Female</td>\n",
       "      <td>18-35</td>\n",
       "      <td>5</td>\n",
       "      <td>2.0</td>\n",
       "      <td>150</td>\n",
       "      <td>2</td>\n",
       "      <td>550</td>\n",
       "      <td>Credit groups</td>\n",
       "      <td>No</td>\n",
       "      <td>Extension services</td>\n",
       "      <td>National Government</td>\n",
       "      <td>SMS text</td>\n",
       "      <td>Vernacular</td>\n",
       "    </tr>\n",
       "    <tr>\n",
       "      <th>397</th>\n",
       "      <td>No educated</td>\n",
       "      <td>Male</td>\n",
       "      <td>18-35</td>\n",
       "      <td>4</td>\n",
       "      <td>2.0</td>\n",
       "      <td>60</td>\n",
       "      <td>2</td>\n",
       "      <td>540</td>\n",
       "      <td>Family</td>\n",
       "      <td>No</td>\n",
       "      <td>Public gatherings</td>\n",
       "      <td>National Government</td>\n",
       "      <td>SMS text</td>\n",
       "      <td>Kiswahili</td>\n",
       "    </tr>\n",
       "  </tbody>\n",
       "</table>\n",
       "</div>"
      ],
      "text/plain": [
       "       education  gender age_bracket household_size  acreage  \\\n",
       "271    Secondary  Female       18-35              5      2.0   \n",
       "397  No educated    Male       18-35              4      2.0   \n",
       "\n",
       "     fertilizer_amount laborers  yield main_credit_source farm_records  \\\n",
       "271                150        2    550      Credit groups           No   \n",
       "397                 60        2    540             Family           No   \n",
       "\n",
       "    main_advisory_source   extension_provider advisory_format  \\\n",
       "271   Extension services  National Government        SMS text   \n",
       "397    Public gatherings  National Government        SMS text   \n",
       "\n",
       "    advisory_language  \n",
       "271        Vernacular  \n",
       "397         Kiswahili  "
      ]
     },
     "execution_count": 62,
     "metadata": {},
     "output_type": "execute_result"
    }
   ],
   "source": [
    "aty_gv = atypical_data(corn_subset, 'yield', 'extension_provider', 'National Government' )\n",
    "aty_gv"
   ]
  },
  {
   "cell_type": "code",
   "execution_count": 63,
   "metadata": {},
   "outputs": [
    {
     "data": {
      "text/plain": [
       "(346, 14)"
      ]
     },
     "execution_count": 63,
     "metadata": {},
     "output_type": "execute_result"
    }
   ],
   "source": [
    "# Dropping the outliers for extension provider\n",
    "corn_subset = corn_subset.drop(aty_gv.index)\n",
    "corn_subset.shape"
   ]
  },
  {
   "cell_type": "code",
   "execution_count": 64,
   "metadata": {},
   "outputs": [
    {
     "name": "stdout",
     "output_type": "stream",
     "text": [
      "Normality Test (Shapiro-Wilk):\n",
      "yield of 0: ShapiroResult(statistic=0.9403187036514282, pvalue=2.3038089125293482e-07)\n",
      "yield of 1: ShapiroResult(statistic=0.9071645736694336, pvalue=0.19619329273700714)\n",
      "yield of 2: ShapiroResult(statistic=0.9508952498435974, pvalue=0.1528068631887436)\n",
      "yield of 3: ShapiroResult(statistic=0.9251630902290344, pvalue=2.4474853489664383e-05)\n",
      "\n",
      "Levene’s Test for Equal Variance:\n",
      "Statistic: 1.540950776739752, P-value: 0.20366351336577657\n",
      "There are unequal variances between different extension provider because 0.20366351336577657 is greater than 0.05\n"
     ]
    }
   ],
   "source": [
    "# Let's continue the same procedure for categorical variables as before:\n",
    "groups_ext = [group[\"yield\"].values for name, group in corn_subset.groupby(\"extension_provider\")]\n",
    "\n",
    "# Test for Normality (Shapiro-Wilk)\n",
    "print(\"Normality Test (Shapiro-Wilk):\")\n",
    "for position, value in enumerate(groups_ext):\n",
    "    try:\n",
    "        print(f\"yield of {position}:\", shapiro(value))\n",
    "    except:\n",
    "        print(f\"error at {position}:\")\n",
    "\n",
    "# Test for Equal Variances (Levene’s Test)\n",
    "stat, p = levene(*groups_ext)\n",
    "print(\"\\nLevene’s Test for Equal Variance:\")\n",
    "print(f\"Statistic: {stat}, P-value: {p}\")\n",
    "print(f\"There are unequal variances between different extension provider because {p} is greater than 0.05\")"
   ]
  },
  {
   "cell_type": "code",
   "execution_count": 65,
   "metadata": {},
   "outputs": [
    {
     "name": "stdout",
     "output_type": "stream",
     "text": [
      "\n",
      "Kruskal-Wallis H Test:\n",
      "U-statistic: 1.517376409217919, P-value: 0.6782657102349303\n"
     ]
    }
   ],
   "source": [
    "# Then, I'll apply the non-parametric alternative test for comparaison (Kruskal-Wallis Test):\n",
    "stat, p = kruskal(*groups_ext)\n",
    "print(\"\\nKruskal-Wallis H Test:\")\n",
    "print(f\"U-statistic: {stat}, P-value: {p}\")"
   ]
  },
  {
   "cell_type": "markdown",
   "metadata": {},
   "source": [
    "The p-value of 0.67826571 calculated above is greater than 0.05; therefore, there is no significant impact on corn production based on the group extension.\n",
    "\n",
    "- Variable 'advisory_format':"
   ]
  },
  {
   "cell_type": "code",
   "execution_count": 66,
   "metadata": {},
   "outputs": [
    {
     "data": {
      "image/png": "[encoded data removed]",
      "text/plain": [
       "<Figure size 640x480 with 1 Axes>"
      ]
     },
     "metadata": {},
     "output_type": "display_data"
    }
   ],
   "source": [
    "# Now, the 'advisory_format' variable behave as:\n",
    "sns.boxplot(x=\"advisory_format\", y=\"yield\", data=corn_subset)\n",
    "plt.title(\"Yield of corn distribution by advisory format\")\n",
    "plt.show()"
   ]
  },
  {
   "cell_type": "code",
   "execution_count": 67,
   "metadata": {},
   "outputs": [
    {
     "name": "stdout",
     "output_type": "stream",
     "text": [
      "Normality Test (Shapiro-Wilk):\n",
      "yield of 0: ShapiroResult(statistic=0.9398419260978699, pvalue=3.032228690358352e-08)\n",
      "yield of 1: ShapiroResult(statistic=0.9192295074462891, pvalue=4.750366770167602e-06)\n",
      "\n",
      "Levene’s Test for Equal Variance:\n",
      "Statistic: 2.855143880105982, P-value: 0.09198808574822054\n",
      "There are unequal variances between different advisory format because 0.09198808574822054 is greater than 0.05\n"
     ]
    }
   ],
   "source": [
    "# Let's continue the same procedure for categorical variables as before:\n",
    "groups_fmt = [group[\"yield\"].values for name, group in corn_subset.groupby(\"advisory_format\")]\n",
    "\n",
    "# Test for Normality (Shapiro-Wilk)\n",
    "print(\"Normality Test (Shapiro-Wilk):\")\n",
    "for position, value in enumerate(groups_fmt):\n",
    "    try:\n",
    "        print(f\"yield of {position}:\", shapiro(value))\n",
    "    except:\n",
    "        print(f\"error at {position}:\")\n",
    "\n",
    "# Test for Equal Variances (Levene’s Test)\n",
    "stat, p = levene(*groups_fmt)\n",
    "print(\"\\nLevene’s Test for Equal Variance:\")\n",
    "print(f\"Statistic: {stat}, P-value: {p}\")\n",
    "print(f\"There are unequal variances between different advisory format because {p} is greater than 0.05\")"
   ]
  },
  {
   "cell_type": "code",
   "execution_count": 68,
   "metadata": {},
   "outputs": [
    {
     "name": "stdout",
     "output_type": "stream",
     "text": [
      "U-statistic: 13833.0, P-value: 0.3605410661532924\n"
     ]
    }
   ],
   "source": [
    "# Then, I'll apply the non-parametric alternative test for comparaison (U Mann-Withney Test):\n",
    "stat, p = mannwhitneyu(groups_fmt[0], groups_fmt[1], alternative='two-sided')\n",
    "print(f\"U-statistic: {stat}, P-value: {p}\")"
   ]
  },
  {
   "cell_type": "markdown",
   "metadata": {},
   "source": [
    "The p-value of 0.360541 calculated above is greater than 0.05; therefore, there is no significant impact on corn production based on the advisory format.\n",
    "\n",
    "- Variable 'advisory_language':"
   ]
  },
  {
   "cell_type": "code",
   "execution_count": 69,
   "metadata": {},
   "outputs": [
    {
     "data": {
      "image/png": "[encoded data removed]",
      "text/plain": [
       "<Figure size 640x480 with 1 Axes>"
      ]
     },
     "metadata": {},
     "output_type": "display_data"
    }
   ],
   "source": [
    "# Now, the 'advisory_language' variable behave as:\n",
    "sns.boxplot(x=\"advisory_language\", y=\"yield\", data=corn_subset)\n",
    "plt.title(\"Yield of corn distribution by advisory language\")\n",
    "plt.show()"
   ]
  },
  {
   "cell_type": "code",
   "execution_count": 70,
   "metadata": {},
   "outputs": [
    {
     "name": "stdout",
     "output_type": "stream",
     "text": [
      "Normality Test (Shapiro-Wilk):\n",
      "yield of 0: ShapiroResult(statistic=0.8664231300354004, pvalue=0.00027476740069687366)\n",
      "yield of 1: ShapiroResult(statistic=0.9455794095993042, pvalue=1.8432340098684108e-08)\n",
      "yield of 2: ShapiroResult(statistic=0.9077150821685791, pvalue=0.004863396752625704)\n",
      "\n",
      "Levene’s Test for Equal Variance:\n",
      "Statistic: 1.6964296795946148, P-value: 0.1848714981591851\n",
      "There are unequal variances between different advisory format because 0.1848714981591851 is greater than 0.05\n"
     ]
    }
   ],
   "source": [
    "# Let's continue the same procedure for categorical variables as before:\n",
    "groups_lang = [group[\"yield\"].values for name, group in corn_subset.groupby(\"advisory_language\")]\n",
    "\n",
    "# Test for Normality (Shapiro-Wilk)\n",
    "print(\"Normality Test (Shapiro-Wilk):\")\n",
    "for position, value in enumerate(groups_lang):\n",
    "    try:\n",
    "        print(f\"yield of {position}:\", shapiro(value))\n",
    "    except:\n",
    "        print(f\"error at {position}:\")\n",
    "\n",
    "# Test for Equal Variances (Levene’s Test)\n",
    "stat, p = levene(*groups_lang)\n",
    "print(\"\\nLevene’s Test for Equal Variance:\")\n",
    "print(f\"Statistic: {stat}, P-value: {p}\")\n",
    "print(f\"There are unequal variances between different advisory format because {p} is greater than 0.05\")"
   ]
  },
  {
   "cell_type": "code",
   "execution_count": 71,
   "metadata": {},
   "outputs": [
    {
     "name": "stdout",
     "output_type": "stream",
     "text": [
      "\n",
      "Kruskal-Wallis H Test:\n",
      "U-statistic: 3.811734803290807, P-value: 0.1486936095868804\n"
     ]
    }
   ],
   "source": [
    "# Then, I'll apply the non-parametric alternative test for comparaison (Kruskal-Wallis Test):\n",
    "stat, p = kruskal(*groups_lang)\n",
    "print(\"\\nKruskal-Wallis H Test:\")\n",
    "print(f\"U-statistic: {stat}, P-value: {p}\")"
   ]
  },
  {
   "cell_type": "markdown",
   "metadata": {},
   "source": [
    "The p-value of 0.1486936 calculated above is greater than 0.05; therefore, there is no significant impact on corn production based on the advisory language."
   ]
  },
  {
   "cell_type": "code",
   "execution_count": 72,
   "metadata": {},
   "outputs": [
    {
     "data": {
      "image/png": "[encoded data removed]",
      "text/plain": [
       "<Figure size 640x480 with 1 Axes>"
      ]
     },
     "metadata": {},
     "output_type": "display_data"
    }
   ],
   "source": [
    "# Now, the 'acreage' variable behave as:\n",
    "sns.boxplot(x=\"acreage\", y=\"yield\", data=corn_subset)\n",
    "plt.title(\"Yield of corn distribution by acres of land\")\n",
    "plt.show()"
   ]
  },
  {
   "cell_type": "code",
   "execution_count": 73,
   "metadata": {},
   "outputs": [
    {
     "data": {
      "text/html": [
       "<div>\n",
       "<style scoped>\n",
       "    .dataframe tbody tr th:only-of-type {\n",
       "        vertical-align: middle;\n",
       "    }\n",
       "\n",
       "    .dataframe tbody tr th {\n",
       "        vertical-align: top;\n",
       "    }\n",
       "\n",
       "    .dataframe thead th {\n",
       "        text-align: right;\n",
       "    }\n",
       "</style>\n",
       "<table border=\"1\" class=\"dataframe\">\n",
       "  <thead>\n",
       "    <tr style=\"text-align: right;\">\n",
       "      <th></th>\n",
       "      <th>education</th>\n",
       "      <th>gender</th>\n",
       "      <th>age_bracket</th>\n",
       "      <th>household_size</th>\n",
       "      <th>acreage</th>\n",
       "      <th>fertilizer_amount</th>\n",
       "      <th>laborers</th>\n",
       "      <th>yield</th>\n",
       "      <th>main_credit_source</th>\n",
       "      <th>farm_records</th>\n",
       "      <th>main_advisory_source</th>\n",
       "      <th>extension_provider</th>\n",
       "      <th>advisory_format</th>\n",
       "      <th>advisory_language</th>\n",
       "    </tr>\n",
       "  </thead>\n",
       "  <tbody>\n",
       "    <tr>\n",
       "      <th>197</th>\n",
       "      <td>Primary</td>\n",
       "      <td>Female</td>\n",
       "      <td>46-55</td>\n",
       "      <td>4</td>\n",
       "      <td>1.5</td>\n",
       "      <td>50</td>\n",
       "      <td>3</td>\n",
       "      <td>110</td>\n",
       "      <td>Credit groups</td>\n",
       "      <td>No</td>\n",
       "      <td>Public gatherings</td>\n",
       "      <td>County Government</td>\n",
       "      <td>Phone Calls</td>\n",
       "      <td>Kiswahili</td>\n",
       "    </tr>\n",
       "    <tr>\n",
       "      <th>250</th>\n",
       "      <td>Primary</td>\n",
       "      <td>Female</td>\n",
       "      <td>56-65</td>\n",
       "      <td>5</td>\n",
       "      <td>1.5</td>\n",
       "      <td>50</td>\n",
       "      <td>2</td>\n",
       "      <td>70</td>\n",
       "      <td>Savings</td>\n",
       "      <td>No</td>\n",
       "      <td>Television</td>\n",
       "      <td>County Government</td>\n",
       "      <td>Phone Calls</td>\n",
       "      <td>English</td>\n",
       "    </tr>\n",
       "    <tr>\n",
       "      <th>395</th>\n",
       "      <td>Secondary</td>\n",
       "      <td>Female</td>\n",
       "      <td>56-65</td>\n",
       "      <td>3</td>\n",
       "      <td>1.5</td>\n",
       "      <td>50</td>\n",
       "      <td>2</td>\n",
       "      <td>50</td>\n",
       "      <td>Credit groups</td>\n",
       "      <td>Yes</td>\n",
       "      <td>Radio</td>\n",
       "      <td>County Government</td>\n",
       "      <td>SMS text</td>\n",
       "      <td>English</td>\n",
       "    </tr>\n",
       "  </tbody>\n",
       "</table>\n",
       "</div>"
      ],
      "text/plain": [
       "     education  gender age_bracket household_size acreage  fertilizer_amount  \\\n",
       "197    Primary  Female       46-55              4     1.5                 50   \n",
       "250    Primary  Female       56-65              5     1.5                 50   \n",
       "395  Secondary  Female       56-65              3     1.5                 50   \n",
       "\n",
       "    laborers  yield main_credit_source farm_records main_advisory_source  \\\n",
       "197        3    110      Credit groups           No    Public gatherings   \n",
       "250        2     70            Savings           No           Television   \n",
       "395        2     50      Credit groups          Yes                Radio   \n",
       "\n",
       "    extension_provider advisory_format advisory_language  \n",
       "197  County Government     Phone Calls         Kiswahili  \n",
       "250  County Government     Phone Calls           English  \n",
       "395  County Government        SMS text           English  "
      ]
     },
     "execution_count": 73,
     "metadata": {},
     "output_type": "execute_result"
    }
   ],
   "source": [
    "#Transformation of the data type in the variable 'acreage':\n",
    "corn_subset['acreage'] = corn_subset['acreage'].apply(str)\n",
    "\n",
    "# The are some possible outliers in the category of '3' outliers. Then,\n",
    "aty_ac_15 = atypical_data(corn_subset, 'yield', 'acreage', '1.5')\n",
    "aty_ac_15 "
   ]
  },
  {
   "cell_type": "markdown",
   "metadata": {},
   "source": [
    "The farmers identifyed previously produce less yield than its peers in the category; however, the amount of laborers used is typical and the fertilizer amount used represent the median value of the category. Then, those registries are considered as insiders and will not be removed."
   ]
  },
  {
   "cell_type": "code",
   "execution_count": 74,
   "metadata": {},
   "outputs": [
    {
     "name": "stdout",
     "output_type": "stream",
     "text": [
      "Normality Test (Shapiro-Wilk):\n",
      "yield of 0: ShapiroResult(statistic=0.8506397604942322, pvalue=1.7175175344164018e-06)\n",
      "yield of 1: ShapiroResult(statistic=0.7794412970542908, pvalue=0.017177872359752655)\n",
      "yield of 2: ShapiroResult(statistic=0.8740692138671875, pvalue=5.2044960341390833e-08)\n",
      "yield of 3: ShapiroResult(statistic=0.8994284272193909, pvalue=0.04750753566622734)\n",
      "yield of 4: ShapiroResult(statistic=0.9442641735076904, pvalue=0.00047770404489710927)\n",
      "yield of 5: ShapiroResult(statistic=0.8950108289718628, pvalue=0.014309423044323921)\n",
      "yield of 6: ShapiroResult(statistic=0.9587637186050415, pvalue=0.5482725501060486)\n",
      "yield of 7: ShapiroResult(statistic=0.9925343990325928, pvalue=0.9700712561607361)\n",
      "yield of 8: ShapiroResult(statistic=0.8603793382644653, pvalue=0.2615744173526764)\n",
      "error at 9:\n",
      "\n",
      "Levene’s Test for Equal Variance:\n",
      "Statistic: 0.9546984933278563, P-value: 0.477660946822025\n",
      "There are unequal variances depending on the amount of land cultivated because 0.477660946822025 is greater than 0.05\n"
     ]
    }
   ],
   "source": [
    "# Let's continue the same procedure for categorical variables as before:\n",
    "groups_acr = [group[\"yield\"].values for name, group in corn_subset.groupby(\"acreage\")]\n",
    "\n",
    "# Test for Normality (Shapiro-Wilk)\n",
    "print(\"Normality Test (Shapiro-Wilk):\")\n",
    "for position, value in enumerate(groups_acr):\n",
    "    try:\n",
    "        print(f\"yield of {position}:\", shapiro(value))\n",
    "    except:\n",
    "        print(f\"error at {position}:\")\n",
    "\n",
    "# Test for Equal Variances (Levene’s Test)\n",
    "stat, p = levene(*groups_acr)\n",
    "print(\"\\nLevene’s Test for Equal Variance:\")\n",
    "print(f\"Statistic: {stat}, P-value: {p}\")\n",
    "print(f\"There are unequal variances depending on the amount of land cultivated because {p} is greater than 0.05\")"
   ]
  },
  {
   "cell_type": "code",
   "execution_count": 75,
   "metadata": {},
   "outputs": [
    {
     "name": "stdout",
     "output_type": "stream",
     "text": [
      "\n",
      "Kruskal-Wallis H Test:\n",
      "U-statistic: 56.79385227491996, P-value: 5.534177350855362e-09\n"
     ]
    }
   ],
   "source": [
    "# Then, I'll apply the non-parametric alternative test for comparaison (Kruskal-Wallis Test):\n",
    "stat, p = kruskal(*groups_acr)\n",
    "print(\"\\nKruskal-Wallis H Test:\")\n",
    "print(f\"U-statistic: {stat}, P-value: {p}\")"
   ]
  },
  {
   "cell_type": "markdown",
   "metadata": {},
   "source": [
    "The amount of cultivable land used in production was proven to be a variable that explain a lot of corn yield because the p-value calculated was almost zero."
   ]
  },
  {
   "cell_type": "code",
   "execution_count": 76,
   "metadata": {},
   "outputs": [
    {
     "name": "stdout",
     "output_type": "stream",
     "text": [
      "advisory_language English: [180 100  90 550 450 360 360 270 200 200 180 180 160 160 150 115 100  90\n",
      "  90  90  80  70 540 330 270 270 270 200 200 180 180 180 150 150 100  70\n",
      "  50 360 180]\n",
      "advisory_language Kiswahili: [270 200 180 180 180 150 135 180 100 100  90  90  50 540 450 450 360 360\n",
      " 360 360 180  50 540 540 540 540 540 540 500 450 450 450 450 450 450 450\n",
      " 450 450 450 450 440 400 400 360 360 360 360 360 360 360 360 360 360 360\n",
      " 360 360 360 360 360 360 360 330 330 330 330 330 330 300 270 270 270 270\n",
      " 270 270 270 270 270 270 270 270 270 270 270 270 270 270 270 250 250 250\n",
      " 250 250 220 200 200 200 200 180 180 180 180 180 180 180 180 180 180 180\n",
      " 180 180 180 180 180 180 180 180 180 180 180 180 180 180 180 180 180 180\n",
      " 150 150 135 135 110 100 100 100 100 100 100 100 100 100 100 100 100 100\n",
      "  95  90  90  90  90  90  90  90  90  90  90  90  80  80  80  80  75  60\n",
      "  60  60  50  50  50  50  50  50  50  50  50 600 540 500 450 450 450 450\n",
      " 450 450 450 450 360 360 360 360 360 360 360 360 360 360 360 330 330 330\n",
      " 330 330 330 300 300 300 270 270 270 270 270 270 270 270 270 270 270 250\n",
      " 250 200 200 200 200 180 180 180 180 180 180 180 180 180 180 180 180 160\n",
      " 150 150 150 150 150 150 150 120 100 100 100 100  90  90  90  50  50 450\n",
      " 450 360 360 330 300 270 270 270 270 220 200 200 180 180 160 150 100  90]\n",
      "advisory_language Vernacular: [300 270 180 150 125 150 540 540 450 360 360 360 270 250 180 180 100  90\n",
      "  90  90  90  50  50 500 400 400 360 270 270 200 180 160 150 135  90  90\n",
      " 540]\n"
     ]
    }
   ],
   "source": [
    "# The groups can be checked as:\n",
    "for name, group in corn_subset.groupby(\"advisory_language\"):\n",
    "    print(f\"advisory_language {name}: {group['yield'].values}\")"
   ]
  },
  {
   "cell_type": "markdown",
   "metadata": {},
   "source": [
    "### Additionally, the continuous variables are visualized as follows:"
   ]
  },
  {
   "cell_type": "code",
   "execution_count": 77,
   "metadata": {},
   "outputs": [
    {
     "name": "stderr",
     "output_type": "stream",
     "text": [
      "c:\\Users\\jober\\anaconda3\\lib\\site-packages\\seaborn\\_oldcore.py:1119: FutureWarning: use_inf_as_na option is deprecated and will be removed in a future version. Convert inf values to NaN before operating instead.\n",
      "  with pd.option_context('mode.use_inf_as_na', True):\n",
      "c:\\Users\\jober\\anaconda3\\lib\\site-packages\\seaborn\\_oldcore.py:1119: FutureWarning: use_inf_as_na option is deprecated and will be removed in a future version. Convert inf values to NaN before operating instead.\n",
      "  with pd.option_context('mode.use_inf_as_na', True):\n"
     ]
    },
    {
     "data": {
      "text/plain": [
       "<seaborn.axisgrid.PairGrid at 0x15be24c1940>"
      ]
     },
     "execution_count": 77,
     "metadata": {},
     "output_type": "execute_result"
    },
    {
     "data": {
      "image/png": "[encoded data removed]",
      "text/plain": [
       "<Figure size 500x500 with 6 Axes>"
      ]
     },
     "metadata": {},
     "output_type": "display_data"
    }
   ],
   "source": [
    "sns.pairplot(corn_subset)"
   ]
  },
  {
   "cell_type": "markdown",
   "metadata": {},
   "source": [
    "- Variable 'fertilizer_amount':"
   ]
  },
  {
   "cell_type": "code",
   "execution_count": 78,
   "metadata": {},
   "outputs": [
    {
     "data": {
      "text/plain": [
       "<Axes: title={'center': 'Yield of corn by land'}, xlabel='fertilizer_amount', ylabel='yield'>"
      ]
     },
     "execution_count": 78,
     "metadata": {},
     "output_type": "execute_result"
    },
    {
     "data": {
      "image/png": "[encoded data removed]",
      "text/plain": [
       "<Figure size 640x480 with 1 Axes>"
      ]
     },
     "metadata": {},
     "output_type": "display_data"
    }
   ],
   "source": [
    "# The variable 'acreage' can be visualized as:\n",
    "corn_subset.plot(kind='scatter', x = 'fertilizer_amount', y = 'yield',\n",
    "                 title='Yield of corn by land')"
   ]
  },
  {
   "cell_type": "code",
   "execution_count": 79,
   "metadata": {},
   "outputs": [
    {
     "name": "stdout",
     "output_type": "stream",
     "text": [
      "Normality Test (Shapiro-Wilk):\n",
      "fertilizer: ShapiroResult(statistic=0.6333056688308716, pvalue=1.4919475159180248e-26)\n",
      "\n",
      "Levene’s Test for Equal Variance:\n",
      "Statistic: 180.56132359352995, P-value: 9.856741597312415e-37\n",
      "There is heterocedasticity depending on the amount of fertilizer used because 9.856741597312415e-37 is smaller than 0.05\n"
     ]
    }
   ],
   "source": [
    "# Test for Normality (Shapiro-Wilk)\n",
    "print(\"Normality Test (Shapiro-Wilk):\")\n",
    "print(f\"fertilizer:\", shapiro(corn_subset['fertilizer_amount']))\n",
    "\n",
    "# Test for Equal Variances (Levene’s Test)\n",
    "stat, p = levene(corn_subset['fertilizer_amount'], corn_subset['yield'])\n",
    "print(\"\\nLevene’s Test for Equal Variance:\")\n",
    "print(f\"Statistic: {stat}, P-value: {p}\")\n",
    "print(f\"There is heterocedasticity depending on the amount of fertilizer used because {p} is smaller than 0.05\")"
   ]
  },
  {
   "cell_type": "code",
   "execution_count": 80,
   "metadata": {},
   "outputs": [
    {
     "data": {
      "text/plain": [
       "PearsonRResult(statistic=0.05156610460600026, pvalue=0.33889526051561386)"
      ]
     },
     "execution_count": 80,
     "metadata": {},
     "output_type": "execute_result"
    }
   ],
   "source": [
    "# The correlation of the numerical variables is stimated by the Test of Pearson:\n",
    "pearsonr(x=corn_subset['yield'], y=corn_subset['fertilizer_amount'], \n",
    "         alternative='two-sided', method=None)"
   ]
  },
  {
   "cell_type": "markdown",
   "metadata": {},
   "source": [
    "The variable is moderately and positively correlated with our target variable (yield). Therefore, it will be included in our model."
   ]
  },
  {
   "cell_type": "markdown",
   "metadata": {},
   "source": [
    "The final cleaned data is the following:"
   ]
  },
  {
   "cell_type": "code",
   "execution_count": 81,
   "metadata": {},
   "outputs": [
    {
     "name": "stdout",
     "output_type": "stream",
     "text": [
      "<class 'pandas.core.frame.DataFrame'>\n",
      "Index: 346 entries, 0 to 421\n",
      "Data columns (total 14 columns):\n",
      " #   Column                Non-Null Count  Dtype \n",
      "---  ------                --------------  ----- \n",
      " 0   education             346 non-null    object\n",
      " 1   gender                346 non-null    object\n",
      " 2   age_bracket           346 non-null    object\n",
      " 3   household_size        346 non-null    object\n",
      " 4   acreage               346 non-null    object\n",
      " 5   fertilizer_amount     346 non-null    int64 \n",
      " 6   laborers              346 non-null    object\n",
      " 7   yield                 346 non-null    int64 \n",
      " 8   main_credit_source    346 non-null    object\n",
      " 9   farm_records          346 non-null    object\n",
      " 10  main_advisory_source  346 non-null    object\n",
      " 11  extension_provider    346 non-null    object\n",
      " 12  advisory_format       346 non-null    object\n",
      " 13  advisory_language     346 non-null    object\n",
      "dtypes: int64(2), object(12)\n",
      "memory usage: 40.5+ KB\n"
     ]
    }
   ],
   "source": [
    "corn_subset.info()"
   ]
  },
  {
   "cell_type": "code",
   "execution_count": 82,
   "metadata": {},
   "outputs": [
    {
     "data": {
      "text/html": [
       "<div>\n",
       "<style scoped>\n",
       "    .dataframe tbody tr th:only-of-type {\n",
       "        vertical-align: middle;\n",
       "    }\n",
       "\n",
       "    .dataframe tbody tr th {\n",
       "        vertical-align: top;\n",
       "    }\n",
       "\n",
       "    .dataframe thead th {\n",
       "        text-align: right;\n",
       "    }\n",
       "</style>\n",
       "<table border=\"1\" class=\"dataframe\">\n",
       "  <thead>\n",
       "    <tr style=\"text-align: right;\">\n",
       "      <th></th>\n",
       "      <th>education</th>\n",
       "      <th>gender</th>\n",
       "      <th>age_bracket</th>\n",
       "      <th>household_size</th>\n",
       "      <th>acreage</th>\n",
       "      <th>fertilizer_amount</th>\n",
       "      <th>laborers</th>\n",
       "      <th>yield</th>\n",
       "      <th>main_credit_source</th>\n",
       "      <th>farm_records</th>\n",
       "      <th>main_advisory_source</th>\n",
       "      <th>extension_provider</th>\n",
       "      <th>advisory_format</th>\n",
       "      <th>advisory_language</th>\n",
       "    </tr>\n",
       "  </thead>\n",
       "  <tbody>\n",
       "    <tr>\n",
       "      <th>0</th>\n",
       "      <td>Certificate</td>\n",
       "      <td>Male</td>\n",
       "      <td>36-45</td>\n",
       "      <td>7</td>\n",
       "      <td>2.0</td>\n",
       "      <td>50</td>\n",
       "      <td>2</td>\n",
       "      <td>300</td>\n",
       "      <td>Credit groups</td>\n",
       "      <td>Yes</td>\n",
       "      <td>Radio</td>\n",
       "      <td>Private Provider</td>\n",
       "      <td>Phone Calls</td>\n",
       "      <td>Vernacular</td>\n",
       "    </tr>\n",
       "    <tr>\n",
       "      <th>1</th>\n",
       "      <td>Certificate</td>\n",
       "      <td>Male</td>\n",
       "      <td>36-45</td>\n",
       "      <td>7</td>\n",
       "      <td>0.25</td>\n",
       "      <td>50</td>\n",
       "      <td>2</td>\n",
       "      <td>270</td>\n",
       "      <td>Credit groups</td>\n",
       "      <td>Yes</td>\n",
       "      <td>Radio</td>\n",
       "      <td>County Government</td>\n",
       "      <td>SMS text</td>\n",
       "      <td>Kiswahili</td>\n",
       "    </tr>\n",
       "    <tr>\n",
       "      <th>2</th>\n",
       "      <td>Certificate</td>\n",
       "      <td>Male</td>\n",
       "      <td>36-45</td>\n",
       "      <td>7</td>\n",
       "      <td>3.0</td>\n",
       "      <td>251</td>\n",
       "      <td>2</td>\n",
       "      <td>270</td>\n",
       "      <td>Credit groups</td>\n",
       "      <td>Yes</td>\n",
       "      <td>Radio</td>\n",
       "      <td>Private Provider</td>\n",
       "      <td>Phone Calls</td>\n",
       "      <td>Vernacular</td>\n",
       "    </tr>\n",
       "    <tr>\n",
       "      <th>3</th>\n",
       "      <td>Certificate</td>\n",
       "      <td>Male</td>\n",
       "      <td>36-45</td>\n",
       "      <td>7</td>\n",
       "      <td>1.5</td>\n",
       "      <td>300</td>\n",
       "      <td>3</td>\n",
       "      <td>200</td>\n",
       "      <td>Credit groups</td>\n",
       "      <td>Yes</td>\n",
       "      <td>Radio</td>\n",
       "      <td>County Government</td>\n",
       "      <td>SMS text</td>\n",
       "      <td>Kiswahili</td>\n",
       "    </tr>\n",
       "    <tr>\n",
       "      <th>5</th>\n",
       "      <td>Certificate</td>\n",
       "      <td>Male</td>\n",
       "      <td>46-55</td>\n",
       "      <td>3</td>\n",
       "      <td>0.5</td>\n",
       "      <td>200</td>\n",
       "      <td>2</td>\n",
       "      <td>180</td>\n",
       "      <td>Credit groups</td>\n",
       "      <td>Yes</td>\n",
       "      <td>Radio</td>\n",
       "      <td>National Government</td>\n",
       "      <td>Phone Calls</td>\n",
       "      <td>Kiswahili</td>\n",
       "    </tr>\n",
       "  </tbody>\n",
       "</table>\n",
       "</div>"
      ],
      "text/plain": [
       "     education gender age_bracket household_size acreage  fertilizer_amount  \\\n",
       "0  Certificate   Male       36-45              7     2.0                 50   \n",
       "1  Certificate   Male       36-45              7    0.25                 50   \n",
       "2  Certificate   Male       36-45              7     3.0                251   \n",
       "3  Certificate   Male       36-45              7     1.5                300   \n",
       "5  Certificate   Male       46-55              3     0.5                200   \n",
       "\n",
       "  laborers  yield main_credit_source farm_records main_advisory_source  \\\n",
       "0        2    300      Credit groups          Yes                Radio   \n",
       "1        2    270      Credit groups          Yes                Radio   \n",
       "2        2    270      Credit groups          Yes                Radio   \n",
       "3        3    200      Credit groups          Yes                Radio   \n",
       "5        2    180      Credit groups          Yes                Radio   \n",
       "\n",
       "    extension_provider advisory_format advisory_language  \n",
       "0     Private Provider     Phone Calls        Vernacular  \n",
       "1    County Government        SMS text         Kiswahili  \n",
       "2     Private Provider     Phone Calls        Vernacular  \n",
       "3    County Government        SMS text         Kiswahili  \n",
       "5  National Government     Phone Calls         Kiswahili  "
      ]
     },
     "execution_count": 82,
     "metadata": {},
     "output_type": "execute_result"
    }
   ],
   "source": [
    "corn_subset.head()"
   ]
  },
  {
   "cell_type": "code",
   "execution_count": 83,
   "metadata": {},
   "outputs": [],
   "source": [
    "categorical_columns = ['education', 'age_bracket', 'household_size', 'laborers', \n",
    "                       'main_advisory_source', 'acreage']\n",
    "\n",
    "# The significant variables identifyed were:\n",
    "significant_var = ['education', 'age_bracket', 'household_size', 'laborers', 'main_advisory_source', \n",
    "               'acreage', 'fertilizer_amount', 'yield']\n",
    "\n",
    "# The not significant variables identifyed were:\n",
    "not_significant_var = ['gender', 'main_credit_source', 'farm_records', 'extension_provider', \n",
    "                       'advisory_format', 'advisory_language']"
   ]
  },
  {
   "cell_type": "markdown",
   "metadata": {},
   "source": [
    "## Step 4: Model identification\n",
    "The cleaned dataset is filtered to include the significant variables identified above."
   ]
  },
  {
   "cell_type": "code",
   "execution_count": 84,
   "metadata": {},
   "outputs": [
    {
     "data": {
      "text/html": [
       "<div>\n",
       "<style scoped>\n",
       "    .dataframe tbody tr th:only-of-type {\n",
       "        vertical-align: middle;\n",
       "    }\n",
       "\n",
       "    .dataframe tbody tr th {\n",
       "        vertical-align: top;\n",
       "    }\n",
       "\n",
       "    .dataframe thead th {\n",
       "        text-align: right;\n",
       "    }\n",
       "</style>\n",
       "<table border=\"1\" class=\"dataframe\">\n",
       "  <thead>\n",
       "    <tr style=\"text-align: right;\">\n",
       "      <th></th>\n",
       "      <th>education</th>\n",
       "      <th>age_bracket</th>\n",
       "      <th>household_size</th>\n",
       "      <th>laborers</th>\n",
       "      <th>main_advisory_source</th>\n",
       "      <th>acreage</th>\n",
       "      <th>fertilizer_amount</th>\n",
       "      <th>yield</th>\n",
       "    </tr>\n",
       "  </thead>\n",
       "  <tbody>\n",
       "    <tr>\n",
       "      <th>0</th>\n",
       "      <td>Certificate</td>\n",
       "      <td>36-45</td>\n",
       "      <td>7</td>\n",
       "      <td>2</td>\n",
       "      <td>Radio</td>\n",
       "      <td>2.0</td>\n",
       "      <td>50</td>\n",
       "      <td>300</td>\n",
       "    </tr>\n",
       "    <tr>\n",
       "      <th>1</th>\n",
       "      <td>Certificate</td>\n",
       "      <td>36-45</td>\n",
       "      <td>7</td>\n",
       "      <td>2</td>\n",
       "      <td>Radio</td>\n",
       "      <td>0.25</td>\n",
       "      <td>50</td>\n",
       "      <td>270</td>\n",
       "    </tr>\n",
       "    <tr>\n",
       "      <th>2</th>\n",
       "      <td>Certificate</td>\n",
       "      <td>36-45</td>\n",
       "      <td>7</td>\n",
       "      <td>2</td>\n",
       "      <td>Radio</td>\n",
       "      <td>3.0</td>\n",
       "      <td>251</td>\n",
       "      <td>270</td>\n",
       "    </tr>\n",
       "    <tr>\n",
       "      <th>3</th>\n",
       "      <td>Certificate</td>\n",
       "      <td>36-45</td>\n",
       "      <td>7</td>\n",
       "      <td>3</td>\n",
       "      <td>Radio</td>\n",
       "      <td>1.5</td>\n",
       "      <td>300</td>\n",
       "      <td>200</td>\n",
       "    </tr>\n",
       "    <tr>\n",
       "      <th>5</th>\n",
       "      <td>Certificate</td>\n",
       "      <td>46-55</td>\n",
       "      <td>3</td>\n",
       "      <td>2</td>\n",
       "      <td>Radio</td>\n",
       "      <td>0.5</td>\n",
       "      <td>200</td>\n",
       "      <td>180</td>\n",
       "    </tr>\n",
       "  </tbody>\n",
       "</table>\n",
       "</div>"
      ],
      "text/plain": [
       "     education age_bracket household_size laborers main_advisory_source  \\\n",
       "0  Certificate       36-45              7        2                Radio   \n",
       "1  Certificate       36-45              7        2                Radio   \n",
       "2  Certificate       36-45              7        2                Radio   \n",
       "3  Certificate       36-45              7        3                Radio   \n",
       "5  Certificate       46-55              3        2                Radio   \n",
       "\n",
       "  acreage  fertilizer_amount  yield  \n",
       "0     2.0                 50    300  \n",
       "1    0.25                 50    270  \n",
       "2     3.0                251    270  \n",
       "3     1.5                300    200  \n",
       "5     0.5                200    180  "
      ]
     },
     "execution_count": 84,
     "metadata": {},
     "output_type": "execute_result"
    }
   ],
   "source": [
    "corn_cleaned = corn_subset[significant_var]\n",
    "corn.reset_index\n",
    "corn_cleaned.head()"
   ]
  },
  {
   "cell_type": "markdown",
   "metadata": {},
   "source": [
    "Working dataset is prepared and splitted as follows:"
   ]
  },
  {
   "cell_type": "code",
   "execution_count": 85,
   "metadata": {},
   "outputs": [],
   "source": [
    "# Preparation dataset\n",
    "# data_encoded = pd.get_dummies(corn_cleaned, columns=categorical_columns, drop_first=True)\n",
    "\n",
    "X = corn_cleaned.drop('yield', axis=1)\n",
    "y = corn_cleaned['yield']\n",
    "\n",
    "# Turning the dataframes into dictionaries:\n",
    "X_dic = X.to_dict(orient='records')"
   ]
  },
  {
   "cell_type": "code",
   "execution_count": 86,
   "metadata": {},
   "outputs": [
    {
     "data": {
      "text/plain": [
       "{'education': 'Certificate',\n",
       " 'age_bracket': '36-45',\n",
       " 'household_size': '7',\n",
       " 'laborers': '2',\n",
       " 'main_advisory_source': 'Radio',\n",
       " 'acreage': '2.0',\n",
       " 'fertilizer_amount': 50}"
      ]
     },
     "execution_count": 86,
     "metadata": {},
     "output_type": "execute_result"
    }
   ],
   "source": [
    "# The data is transformed to dictionaries as:\n",
    "X_dic[0]"
   ]
  },
  {
   "cell_type": "code",
   "execution_count": 87,
   "metadata": {},
   "outputs": [],
   "source": [
    "# Instanciating the vectorizer for Hot Encoding:\n",
    "dv = DictVectorizer(sparse=False)\n",
    "\n",
    "# Applying the vectorizer:\n",
    "X_encoded = dv.fit_transform(X_dic)"
   ]
  },
  {
   "cell_type": "code",
   "execution_count": 88,
   "metadata": {},
   "outputs": [
    {
     "name": "stdout",
     "output_type": "stream",
     "text": [
      "The column names are: ['acreage=0.25' 'acreage=0.3' 'acreage=0.5' 'acreage=0.75' 'acreage=1.0'\n",
      " 'acreage=1.5' 'acreage=2.0' 'acreage=2.5' 'acreage=3.0' 'acreage=4.0'\n",
      " 'age_bracket=18-35' 'age_bracket=36-45' 'age_bracket=46-55'\n",
      " 'age_bracket=56-65' 'age_bracket=above 65' 'education=Certificate'\n",
      " 'education=Degree' 'education=Diploma' 'education=No educated'\n",
      " 'education=Primary' 'education=Secondary' 'fertilizer_amount'\n",
      " 'household_size=1' 'household_size=2' 'household_size=3'\n",
      " 'household_size=4' 'household_size=5' 'household_size=6'\n",
      " 'household_size=7' 'household_size=8' 'household_size=9' 'laborers=2'\n",
      " 'laborers=3' 'laborers=4' 'laborers=5' 'laborers=6' 'laborers=8'\n",
      " 'main_advisory_source=Extension services' 'main_advisory_source=Internet'\n",
      " 'main_advisory_source=Public gatherings' 'main_advisory_source=Radio'\n",
      " 'main_advisory_source=Television']\n",
      "\n",
      " The first element of the transformed dataset is: \n"
     ]
    },
    {
     "data": {
      "text/plain": [
       "array([ 0.,  0.,  0.,  0.,  0.,  0.,  1.,  0.,  0.,  0.,  0.,  1.,  0.,\n",
       "        0.,  0.,  1.,  0.,  0.,  0.,  0.,  0., 50.,  0.,  0.,  0.,  0.,\n",
       "        0.,  0.,  1.,  0.,  0.,  1.,  0.,  0.,  0.,  0.,  0.,  0.,  0.,\n",
       "        0.,  1.,  0.])"
      ]
     },
     "execution_count": 88,
     "metadata": {},
     "output_type": "execute_result"
    }
   ],
   "source": [
    "# The vectorized rows are transformed to the form of:\n",
    "print(f'The column names are: {dv.get_feature_names_out()}')\n",
    "print('\\n The first element of the transformed dataset is: ')\n",
    "X_encoded[0]"
   ]
  },
  {
   "cell_type": "markdown",
   "metadata": {},
   "source": [
    "Dataset splitted as follows: 60% for training, 20% for validation, and 20% for testing."
   ]
  },
  {
   "cell_type": "code",
   "execution_count": 89,
   "metadata": {},
   "outputs": [
    {
     "name": "stdout",
     "output_type": "stream",
     "text": [
      "The number of registries in the train dataset is 207, in the validation dataset is 69, and in the test dataset is 70.\n"
     ]
    }
   ],
   "source": [
    "# We first split for testing\n",
    "X_full_train, X_test, y_full_train, y_test = train_test_split(X_encoded, y, test_size=0.2, random_state=42)\n",
    "# Then we split again for validation\n",
    "X_train, X_val, y_train, y_val = train_test_split(X_full_train, y_full_train, test_size=0.25, random_state=42)\n",
    "\n",
    "# The lenght of the datasets can be validated as:\n",
    "print(f'The number of registries in the train dataset is {len(X_train)}, in the validation dataset is {len(X_val)}, and in the test dataset is {len(X_test)}.')\n"
   ]
  },
  {
   "cell_type": "markdown",
   "metadata": {},
   "source": [
    "### - Let's try some models:\n",
    "\n",
    "__1. Linear Regression Model:__"
   ]
  },
  {
   "cell_type": "code",
   "execution_count": 90,
   "metadata": {},
   "outputs": [
    {
     "name": "stdout",
     "output_type": "stream",
     "text": [
      "Linear Regression Metrics:\n",
      "RMSE: 55.12711670849444\n",
      "R² Score: 0.8114217687342744\n"
     ]
    }
   ],
   "source": [
    "# The model is trained as follows:\n",
    "linear = LinearRegression()\n",
    "linear.fit(X_train, y_train)\n",
    "\n",
    "# The trained model is used to predict the values in the test dataset:\n",
    "y_pred_val = linear.predict(X_val)\n",
    "\n",
    "# The main indicator for assessing the validity of the model is the Root Mean Squared Error (RMSE).\n",
    "print(\"Linear Regression Metrics:\")\n",
    "print(\"RMSE:\", np.sqrt(mean_squared_error(y_val, y_pred_val)))\n",
    "print(\"R² Score:\", r2_score(y_val, y_pred_val))"
   ]
  },
  {
   "cell_type": "markdown",
   "metadata": {},
   "source": [
    "Refining the parameters of a linear regression model typically involves introducing regularization techniques like Ridge Regression (L2 regularization) or Lasso Regression (L1 regularization). The hiperparameters can be selected as:"
   ]
  },
  {
   "cell_type": "code",
   "execution_count": 91,
   "metadata": {},
   "outputs": [
    {
     "name": "stdout",
     "output_type": "stream",
     "text": [
      "Best Ridge Alpha: {'alpha': 1}\n"
     ]
    }
   ],
   "source": [
    "# The first regularized model [Ridge] is \n",
    "ridge = Ridge()\n",
    "param_grid = {'alpha': [0.01, 0.1, 1, 10, 100]}\n",
    "grid_ridge = GridSearchCV(ridge, param_grid, scoring='neg_mean_squared_error', cv=5)\n",
    "grid_ridge.fit(X_train, y_train)\n",
    "\n",
    "print(\"Best Ridge Alpha:\", grid_ridge.best_params_)\n",
    "ridge_best = grid_ridge.best_estimator_"
   ]
  },
  {
   "cell_type": "code",
   "execution_count": 92,
   "metadata": {},
   "outputs": [
    {
     "name": "stdout",
     "output_type": "stream",
     "text": [
      "Best Lasso Alpha: {'alpha': 1}\n"
     ]
    }
   ],
   "source": [
    "# The second regularized model [Lasso] is \n",
    "lasso = Lasso()\n",
    "param_grid = {'alpha': [0.01, 0.1, 1, 10, 100]}\n",
    "grid_lasso = GridSearchCV(lasso, param_grid, scoring='neg_mean_squared_error', cv=5)\n",
    "grid_lasso.fit(X_train, y_train)\n",
    "\n",
    "print(\"Best Lasso Alpha:\", grid_lasso.best_params_)\n",
    "lasso_best = grid_lasso.best_estimator_"
   ]
  },
  {
   "cell_type": "code",
   "execution_count": 93,
   "metadata": {},
   "outputs": [],
   "source": [
    "# The evaluation of metrics for the model will be done using this formula:\n",
    "def evaluate_model(y_test, y_pred, model_name):\n",
    "    rmse = np.sqrt(mean_squared_error(y_test, y_pred))\n",
    "    r2 = r2_score(y_test, y_pred)\n",
    "    print(f\"{model_name} Performance:\")\n",
    "    print(f\"  RMSE: {rmse}\")\n",
    "    print(f\"  R² Score: {r2}\")"
   ]
  },
  {
   "cell_type": "code",
   "execution_count": 94,
   "metadata": {},
   "outputs": [
    {
     "name": "stdout",
     "output_type": "stream",
     "text": [
      "Linear Regression Performance:\n",
      "  RMSE: 55.12711670849444\n",
      "  R² Score: 0.8114217687342744\n",
      "Ridge Regression Performance:\n",
      "  RMSE: 55.519978756025125\n",
      "  R² Score: 0.8087243951808203\n",
      "Lasso Regression Performance:\n",
      "  RMSE: 51.04156644425564\n",
      "  R² Score: 0.8383376119572175\n"
     ]
    }
   ],
   "source": [
    "# Predictions for regularized models are:\n",
    "y_pred_ridge = ridge_best.predict(X_val)\n",
    "y_pred_lasso = lasso_best.predict(X_val)\n",
    "\n",
    "# The evaluation for the linear models are:\n",
    "evaluate_model(y_val, y_pred_val, \"Linear Regression\")\n",
    "evaluate_model(y_val, y_pred_ridge, \"Ridge Regression\")\n",
    "evaluate_model(y_val, y_pred_lasso, \"Lasso Regression\")"
   ]
  },
  {
   "cell_type": "markdown",
   "metadata": {},
   "source": [
    "The best model is the Lasso Regression model, as it has the lowest RMSE and the highest R² score. This model explains 81.83% of the variability in corn yield and has an average deviation of 51.041 units in corn production between the actual values in the test dataset and the model's predictions.\n",
    "\n",
    "__2. Random Forest Model:__"
   ]
  },
  {
   "cell_type": "code",
   "execution_count": 95,
   "metadata": {},
   "outputs": [
    {
     "name": "stdout",
     "output_type": "stream",
     "text": [
      "Random Forest Metrics:\n",
      "RMSE: 48.00363900381611\n",
      "R² Score: 0.8570087958030005\n"
     ]
    }
   ],
   "source": [
    "# The model is trained as follows:\n",
    "random_forest = RandomForestRegressor(random_state=42)\n",
    "\n",
    "# The trained model is used to predict the values in the test dataset:\n",
    "random_forest.fit(X_train, y_train)\n",
    "y_pred_val = random_forest.predict(X_val)\n",
    "\n",
    "# The main indicator for assessing the validity of the model is the Root Mean Squared Error (RMSE).\n",
    "print(\"Random Forest Metrics:\")\n",
    "print(\"RMSE:\", np.sqrt(mean_squared_error(y_val, y_pred_val)))\n",
    "print(\"R² Score:\", r2_score(y_val, y_pred_val))"
   ]
  },
  {
   "cell_type": "code",
   "execution_count": 96,
   "metadata": {},
   "outputs": [
    {
     "data": {
      "text/plain": [
       "{'bootstrap': True,\n",
       " 'ccp_alpha': 0.0,\n",
       " 'criterion': 'squared_error',\n",
       " 'max_depth': None,\n",
       " 'max_features': 1.0,\n",
       " 'max_leaf_nodes': None,\n",
       " 'max_samples': None,\n",
       " 'min_impurity_decrease': 0.0,\n",
       " 'min_samples_leaf': 1,\n",
       " 'min_samples_split': 2,\n",
       " 'min_weight_fraction_leaf': 0.0,\n",
       " 'n_estimators': 100,\n",
       " 'n_jobs': None,\n",
       " 'oob_score': False,\n",
       " 'random_state': 42,\n",
       " 'verbose': 0,\n",
       " 'warm_start': False}"
      ]
     },
     "execution_count": 96,
     "metadata": {},
     "output_type": "execute_result"
    }
   ],
   "source": [
    "# The parameters of the trained model are:\n",
    "random_forest.get_params()"
   ]
  },
  {
   "cell_type": "code",
   "execution_count": 97,
   "metadata": {},
   "outputs": [],
   "source": [
    "# Tunning the hyperparameters is crucial. In this case, I'll define the followings:\n",
    "param_grid = {\n",
    "    'n_estimators': [20, 50, 100, 200, 300],    # Number of trees\n",
    "    'max_depth': [None, 10, 20, 30],            # Maximum depth of each tree\n",
    "    'min_samples_split': [2, 5, 10],            # Minimum samples required to split\n",
    "    'min_samples_leaf': [1, 2, 4],              # Minimum samples in a leaf\n",
    "    'max_features': [1.0, 'sqrt', 'log2'],      # Features to consider at each split\n",
    "}"
   ]
  },
  {
   "cell_type": "code",
   "execution_count": 98,
   "metadata": {},
   "outputs": [
    {
     "name": "stdout",
     "output_type": "stream",
     "text": [
      "Fitting 3 folds for each of 540 candidates, totalling 1620 fits\n",
      "Best parameters for our Random forest model are: {'max_depth': None, 'max_features': 1.0, 'min_samples_leaf': 4, 'min_samples_split': 2, 'n_estimators': 20}\n"
     ]
    }
   ],
   "source": [
    "# I'll use GridSearchCV for exhaustive tuning\n",
    "grid_search = GridSearchCV(estimator=random_forest, param_grid=param_grid, \n",
    "                           scoring='neg_mean_squared_error', cv=3, verbose=2, n_jobs=-1, \n",
    "                           error_score='raise')\n",
    "grid_search.fit(X_train, y_train)\n",
    "\n",
    "print(\"Best parameters for our Random forest model are:\", grid_search.best_params_)\n",
    "best_model_grid = grid_search.best_estimator_"
   ]
  },
  {
   "cell_type": "code",
   "execution_count": 99,
   "metadata": {},
   "outputs": [
    {
     "name": "stdout",
     "output_type": "stream",
     "text": [
      "Raw Random forest - Test MSE: 48.00363900381611\n",
      "R² Score: 0.8570087958030005\n",
      "Grid Search - Test MSE: 43.72868125534098\n",
      "R² Score: 0.881342891222868\n"
     ]
    }
   ],
   "source": [
    "# The evaluation for both random forest models on the test set is:\n",
    "for name, model in [(\"Raw Random forest\", random_forest), (\"Grid Search\", best_model_grid)]:\n",
    "    y_pred_val = model.predict(X_val)\n",
    "    mse = np.sqrt(mean_squared_error(y_val, y_pred_val))\n",
    "    print(f\"{name} - Test MSE: {mse}\")\n",
    "    print(\"R² Score:\", r2_score(y_val, y_pred_val))"
   ]
  },
  {
   "cell_type": "markdown",
   "metadata": {},
   "source": [
    "The optimized random forest model (Grid search) has proven to explain almost 88.2% of the variability in yield of corn and lower average deviation from the actual value in the test set (43.7286 units) .\n",
    "\n",
    "__3. Gradient Boosted Trees (GBT) Model:__"
   ]
  },
  {
   "cell_type": "code",
   "execution_count": 100,
   "metadata": {},
   "outputs": [
    {
     "name": "stdout",
     "output_type": "stream",
     "text": [
      "GBT Metrics:\n",
      "RMSE: 46.85348856730309\n",
      "R² Score: 0.8637787482679959\n"
     ]
    }
   ],
   "source": [
    "# The model is trained as follows:\n",
    "gbt = GradientBoostingRegressor(random_state=42)\n",
    "\n",
    "# The trained model is used to predict the values in the test dataset:\n",
    "gbt.fit(X_train, y_train)\n",
    "y_pred_val = gbt.predict(X_val)\n",
    "\n",
    "# The main indicator for assessing the validity of the model is the Root Mean Squared Error (RMSE).\n",
    "print(\"GBT Metrics:\")\n",
    "print(\"RMSE:\", np.sqrt(mean_squared_error(y_val, y_pred_val)))\n",
    "print(\"R² Score:\", r2_score(y_val, y_pred_val))"
   ]
  },
  {
   "cell_type": "code",
   "execution_count": 101,
   "metadata": {},
   "outputs": [
    {
     "data": {
      "text/plain": [
       "{'alpha': 0.9,\n",
       " 'ccp_alpha': 0.0,\n",
       " 'criterion': 'friedman_mse',\n",
       " 'init': None,\n",
       " 'learning_rate': 0.1,\n",
       " 'loss': 'squared_error',\n",
       " 'max_depth': 3,\n",
       " 'max_features': None,\n",
       " 'max_leaf_nodes': None,\n",
       " 'min_impurity_decrease': 0.0,\n",
       " 'min_samples_leaf': 1,\n",
       " 'min_samples_split': 2,\n",
       " 'min_weight_fraction_leaf': 0.0,\n",
       " 'n_estimators': 100,\n",
       " 'n_iter_no_change': None,\n",
       " 'random_state': 42,\n",
       " 'subsample': 1.0,\n",
       " 'tol': 0.0001,\n",
       " 'validation_fraction': 0.1,\n",
       " 'verbose': 0,\n",
       " 'warm_start': False}"
      ]
     },
     "execution_count": 101,
     "metadata": {},
     "output_type": "execute_result"
    }
   ],
   "source": [
    "gbt.get_params()"
   ]
  },
  {
   "cell_type": "code",
   "execution_count": 102,
   "metadata": {},
   "outputs": [],
   "source": [
    "# Tunning the hyperparameters is crucial. In this case, I'll define the followings:\n",
    "param_grid = {\n",
    "    'learning_rate': [0.001, 0.01, 0.1, 0.2, 0.5],\n",
    "    'n_estimators': [20, 50, 100, 200, 300],\n",
    "    'max_depth': [3, 5, 7, 10, 20],\n",
    "}"
   ]
  },
  {
   "cell_type": "code",
   "execution_count": 103,
   "metadata": {},
   "outputs": [
    {
     "name": "stdout",
     "output_type": "stream",
     "text": [
      "Best Parameters: {'learning_rate': 0.1, 'max_depth': 3, 'n_estimators': 50}\n"
     ]
    }
   ],
   "source": [
    "# I'll use GridSearchCV for exhaustive tuning\n",
    "grid_gbt = GridSearchCV(estimator=GradientBoostingRegressor(random_state=42),\n",
    "                        param_grid=param_grid,\n",
    "                        cv=3, scoring='neg_mean_squared_error')\n",
    "grid_gbt.fit(X_train, y_train)\n",
    "\n",
    "print(\"Best Parameters:\", grid_gbt.best_params_)"
   ]
  },
  {
   "cell_type": "code",
   "execution_count": 104,
   "metadata": {},
   "outputs": [
    {
     "name": "stdout",
     "output_type": "stream",
     "text": [
      "Raw Gradient Boosted trees - Test MSE: 46.85348856730309\n",
      "R² Score: 0.8637787482679959\n",
      "Grid GBT - Test MSE: 45.10582300768628\n",
      "R² Score: 0.8737515007593396\n"
     ]
    }
   ],
   "source": [
    "# The evaluation for both GBT models on the validation set is:\n",
    "for name, model in [(\"Raw Gradient Boosted trees\", gbt), (\"Grid GBT\", grid_gbt)]:\n",
    "    y_pred_val = model.predict(X_val)\n",
    "    rmse = np.sqrt(mean_squared_error(y_val, y_pred_val))\n",
    "    print(f\"{name} - Test MSE: {rmse}\")\n",
    "    print(\"R² Score:\", r2_score(y_val, y_pred_val))"
   ]
  },
  {
   "cell_type": "markdown",
   "metadata": {},
   "source": [
    "Of the two Gradient Boosted Trees models, the optimized version is the most suitable. This model explains 87.375% of the variability in corn production and produces an average deviation of 45.105 units between the test values and the predicted values.\n",
    "\n",
    "__To summarize, the chosen models produce the following RMSE and R² scores when applied to the test dataset:__"
   ]
  },
  {
   "cell_type": "code",
   "execution_count": 105,
   "metadata": {},
   "outputs": [
    {
     "data": {
      "text/html": [
       "<div>\n",
       "<style scoped>\n",
       "    .dataframe tbody tr th:only-of-type {\n",
       "        vertical-align: middle;\n",
       "    }\n",
       "\n",
       "    .dataframe tbody tr th {\n",
       "        vertical-align: top;\n",
       "    }\n",
       "\n",
       "    .dataframe thead th {\n",
       "        text-align: right;\n",
       "    }\n",
       "</style>\n",
       "<table border=\"1\" class=\"dataframe\">\n",
       "  <thead>\n",
       "    <tr style=\"text-align: right;\">\n",
       "      <th></th>\n",
       "      <th>Model</th>\n",
       "      <th>RSME</th>\n",
       "      <th>R-squared</th>\n",
       "    </tr>\n",
       "  </thead>\n",
       "  <tbody>\n",
       "    <tr>\n",
       "      <th>0</th>\n",
       "      <td>Linear Regression</td>\n",
       "      <td>48.821804</td>\n",
       "      <td>0.865305</td>\n",
       "    </tr>\n",
       "    <tr>\n",
       "      <th>1</th>\n",
       "      <td>Rigde Regression</td>\n",
       "      <td>47.783379</td>\n",
       "      <td>0.870974</td>\n",
       "    </tr>\n",
       "    <tr>\n",
       "      <th>2</th>\n",
       "      <td>Lasso Regression</td>\n",
       "      <td>46.782486</td>\n",
       "      <td>0.876323</td>\n",
       "    </tr>\n",
       "    <tr>\n",
       "      <th>3</th>\n",
       "      <td>Raw Random forest</td>\n",
       "      <td>42.158133</td>\n",
       "      <td>0.899565</td>\n",
       "    </tr>\n",
       "    <tr>\n",
       "      <th>4</th>\n",
       "      <td>Grid Search</td>\n",
       "      <td>42.943902</td>\n",
       "      <td>0.895786</td>\n",
       "    </tr>\n",
       "    <tr>\n",
       "      <th>5</th>\n",
       "      <td>Raw Gradient Boosted trees</td>\n",
       "      <td>42.961256</td>\n",
       "      <td>0.895702</td>\n",
       "    </tr>\n",
       "    <tr>\n",
       "      <th>6</th>\n",
       "      <td>Grid GBT</td>\n",
       "      <td>41.775869</td>\n",
       "      <td>0.901378</td>\n",
       "    </tr>\n",
       "  </tbody>\n",
       "</table>\n",
       "</div>"
      ],
      "text/plain": [
       "                        Model       RSME  R-squared\n",
       "0           Linear Regression  48.821804   0.865305\n",
       "1            Rigde Regression  47.783379   0.870974\n",
       "2            Lasso Regression  46.782486   0.876323\n",
       "3           Raw Random forest  42.158133   0.899565\n",
       "4                 Grid Search  42.943902   0.895786\n",
       "5  Raw Gradient Boosted trees  42.961256   0.895702\n",
       "6                    Grid GBT  41.775869   0.901378"
      ]
     },
     "execution_count": 105,
     "metadata": {},
     "output_type": "execute_result"
    }
   ],
   "source": [
    "# The list of models evaluated are:\n",
    "listed_models = [(\"Linear Regression\", linear), (\"Rigde Regression\", ridge_best), (\"Lasso Regression\", lasso_best), \n",
    "                 (\"Raw Random forest\", random_forest), (\"Grid Search\", best_model_grid), \n",
    "                 (\"Raw Gradient Boosted trees\", gbt), (\"Grid GBT\", grid_gbt)]\n",
    "\n",
    "# The evaluation is performed by: \n",
    "result_scores = [] \n",
    "for name, model in listed_models:\n",
    "    y_pred = model.predict(X_test)\n",
    "    mse = np.sqrt(mean_squared_error(y_test, y_pred))\n",
    "    r2_value = r2_score(y_test, y_pred)\n",
    "    result_scores.append([name, mse, r2_value])\n",
    "\n",
    "scores_summary = pd.DataFrame(result_scores, columns=['Model', 'RSME', 'R-squared'])\n",
    "\n",
    "# The summary of evaluation metrics is:\n",
    "scores_summary"
   ]
  },
  {
   "cell_type": "markdown",
   "metadata": {},
   "source": [
    "The best model is the Optimized Gradient Boosted Trees (Grid GBT) because it produces the lowest average deviation from the test values (41.775) and provides the highest explanation of variability in yield production (90.1378%)."
   ]
  }
 ],
 "metadata": {
  "kernelspec": {
   "display_name": "base",
   "language": "python",
   "name": "python3"
  },
  "language_info": {
   "codemirror_mode": {
    "name": "ipython",
    "version": 3
   },
   "file_extension": ".py",
   "mimetype": "text/x-python",
   "name": "python",
   "nbconvert_exporter": "python",
   "pygments_lexer": "ipython3",
   "version": "3.9.18"
  }
 },
 "nbformat": 4,
 "nbformat_minor": 2
}
